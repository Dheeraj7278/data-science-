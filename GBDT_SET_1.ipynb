{
 "cells": [
  {
   "cell_type": "code",
   "execution_count": 7,
   "id": "85c6f31e",
   "metadata": {},
   "outputs": [
    {
     "name": "stderr",
     "output_type": "stream",
     "text": [
      "[nltk_data] Downloading package vader_lexicon to\n",
      "[nltk_data]     C:\\Users\\amitk\\AppData\\Roaming\\nltk_data...\n",
      "[nltk_data]   Package vader_lexicon is already up-to-date!\n"
     ]
    }
   ],
   "source": [
    "%matplotlib inline\n",
    "import warnings\n",
    "warnings.filterwarnings(\"ignore\")\n",
    "\n",
    "import pandas as pd\n",
    "import numpy as np\n",
    "import math as m\n",
    "import matplotlib.pyplot as plt\n",
    "import seaborn as sns\n",
    "import nltk\n",
    "import re\n",
    "from scipy import sparse\n",
    "from sklearn.feature_extraction.text import TfidfVectorizer\n",
    "from sklearn.feature_extraction.text import CountVectorizer\n",
    "from sklearn.preprocessing import Normalizer\n",
    "from sklearn.metrics import confusion_matrix\n",
    "from sklearn.model_selection import train_test_split\n",
    "from sklearn import metrics\n",
    "from sklearn.metrics import roc_curve, auc\n",
    "from tqdm import tqdm\n",
    "\n",
    "import nltk\n",
    "nltk.download('vader_lexicon')\n",
    "from nltk.sentiment.vader import SentimentIntensityAnalyzer\n",
    "sid = SentimentIntensityAnalyzer()"
   ]
  },
  {
   "cell_type": "code",
   "execution_count": 8,
   "id": "5c153ac6",
   "metadata": {},
   "outputs": [
    {
     "data": {
      "text/plain": [
       "''"
      ]
     },
     "execution_count": 8,
     "metadata": {},
     "output_type": "execute_result"
    }
   ],
   "source": [
    "import tensorflow as tf\n",
    "tf.test.gpu_device_name()"
   ]
  },
  {
   "cell_type": "markdown",
   "id": "efb0dd0d",
   "metadata": {},
   "source": [
    "# Importing Dataset"
   ]
  },
  {
   "cell_type": "code",
   "execution_count": 9,
   "id": "a76883d0",
   "metadata": {},
   "outputs": [],
   "source": [
    "data = pd.read_csv('C:\\\\Users\\\\amitk\\\\OneDrive\\\\Desktop\\\\preprocessed_data.csv')"
   ]
  },
  {
   "cell_type": "code",
   "execution_count": 10,
   "id": "240ca06f",
   "metadata": {},
   "outputs": [
    {
     "data": {
      "text/html": [
       "<div>\n",
       "<style scoped>\n",
       "    .dataframe tbody tr th:only-of-type {\n",
       "        vertical-align: middle;\n",
       "    }\n",
       "\n",
       "    .dataframe tbody tr th {\n",
       "        vertical-align: top;\n",
       "    }\n",
       "\n",
       "    .dataframe thead th {\n",
       "        text-align: right;\n",
       "    }\n",
       "</style>\n",
       "<table border=\"1\" class=\"dataframe\">\n",
       "  <thead>\n",
       "    <tr style=\"text-align: right;\">\n",
       "      <th></th>\n",
       "      <th>school_state</th>\n",
       "      <th>teacher_prefix</th>\n",
       "      <th>project_grade_category</th>\n",
       "      <th>teacher_number_of_previously_posted_projects</th>\n",
       "      <th>project_is_approved</th>\n",
       "      <th>clean_categories</th>\n",
       "      <th>clean_subcategories</th>\n",
       "      <th>essay</th>\n",
       "      <th>price</th>\n",
       "    </tr>\n",
       "  </thead>\n",
       "  <tbody>\n",
       "    <tr>\n",
       "      <th>0</th>\n",
       "      <td>ca</td>\n",
       "      <td>mrs</td>\n",
       "      <td>grades_prek_2</td>\n",
       "      <td>53</td>\n",
       "      <td>1</td>\n",
       "      <td>math_science</td>\n",
       "      <td>appliedsciences health_lifescience</td>\n",
       "      <td>i fortunate enough use fairy tale stem kits cl...</td>\n",
       "      <td>725.05</td>\n",
       "    </tr>\n",
       "    <tr>\n",
       "      <th>1</th>\n",
       "      <td>ut</td>\n",
       "      <td>ms</td>\n",
       "      <td>grades_3_5</td>\n",
       "      <td>4</td>\n",
       "      <td>1</td>\n",
       "      <td>specialneeds</td>\n",
       "      <td>specialneeds</td>\n",
       "      <td>imagine 8 9 years old you third grade classroo...</td>\n",
       "      <td>213.03</td>\n",
       "    </tr>\n",
       "    <tr>\n",
       "      <th>2</th>\n",
       "      <td>ca</td>\n",
       "      <td>mrs</td>\n",
       "      <td>grades_prek_2</td>\n",
       "      <td>10</td>\n",
       "      <td>1</td>\n",
       "      <td>literacy_language</td>\n",
       "      <td>literacy</td>\n",
       "      <td>having class 24 students comes diverse learner...</td>\n",
       "      <td>329.00</td>\n",
       "    </tr>\n",
       "    <tr>\n",
       "      <th>3</th>\n",
       "      <td>ga</td>\n",
       "      <td>mrs</td>\n",
       "      <td>grades_prek_2</td>\n",
       "      <td>2</td>\n",
       "      <td>1</td>\n",
       "      <td>appliedlearning</td>\n",
       "      <td>earlydevelopment</td>\n",
       "      <td>i recently read article giving students choice...</td>\n",
       "      <td>481.04</td>\n",
       "    </tr>\n",
       "    <tr>\n",
       "      <th>4</th>\n",
       "      <td>wa</td>\n",
       "      <td>mrs</td>\n",
       "      <td>grades_3_5</td>\n",
       "      <td>2</td>\n",
       "      <td>1</td>\n",
       "      <td>literacy_language</td>\n",
       "      <td>literacy</td>\n",
       "      <td>my students crave challenge eat obstacles brea...</td>\n",
       "      <td>17.74</td>\n",
       "    </tr>\n",
       "  </tbody>\n",
       "</table>\n",
       "</div>"
      ],
      "text/plain": [
       "  school_state teacher_prefix project_grade_category  \\\n",
       "0           ca            mrs          grades_prek_2   \n",
       "1           ut             ms             grades_3_5   \n",
       "2           ca            mrs          grades_prek_2   \n",
       "3           ga            mrs          grades_prek_2   \n",
       "4           wa            mrs             grades_3_5   \n",
       "\n",
       "   teacher_number_of_previously_posted_projects  project_is_approved  \\\n",
       "0                                            53                    1   \n",
       "1                                             4                    1   \n",
       "2                                            10                    1   \n",
       "3                                             2                    1   \n",
       "4                                             2                    1   \n",
       "\n",
       "    clean_categories                 clean_subcategories  \\\n",
       "0       math_science  appliedsciences health_lifescience   \n",
       "1       specialneeds                        specialneeds   \n",
       "2  literacy_language                            literacy   \n",
       "3    appliedlearning                    earlydevelopment   \n",
       "4  literacy_language                            literacy   \n",
       "\n",
       "                                               essay   price  \n",
       "0  i fortunate enough use fairy tale stem kits cl...  725.05  \n",
       "1  imagine 8 9 years old you third grade classroo...  213.03  \n",
       "2  having class 24 students comes diverse learner...  329.00  \n",
       "3  i recently read article giving students choice...  481.04  \n",
       "4  my students crave challenge eat obstacles brea...   17.74  "
      ]
     },
     "execution_count": 10,
     "metadata": {},
     "output_type": "execute_result"
    }
   ],
   "source": [
    "data.head()"
   ]
  },
  {
   "cell_type": "code",
   "execution_count": 11,
   "id": "7260a63f",
   "metadata": {},
   "outputs": [],
   "source": [
    "negative = []\n",
    "positive = []\n",
    "neutral = []\n",
    "compound = []\n",
    "\n",
    "def update_sentiments(values):\n",
    "    negative.append(values[\"neg\"])    \n",
    "    positive.append(values[\"pos\"])\n",
    "    neutral.append(values[\"neu\"])\n",
    "    compound.append(values[\"compound\"])"
   ]
  },
  {
   "cell_type": "code",
   "execution_count": 12,
   "id": "1c000115",
   "metadata": {},
   "outputs": [
    {
     "name": "stderr",
     "output_type": "stream",
     "text": [
      "100%|█████████████████████████████████████████████████████████████████████████| 109248/109248 [03:11<00:00, 571.49it/s]\n"
     ]
    }
   ],
   "source": [
    "from tqdm import tqdm\n",
    "for essay in tqdm(data[\"essay\"]):\n",
    "    update_sentiments(sid.polarity_scores(essay))"
   ]
  },
  {
   "cell_type": "code",
   "execution_count": 13,
   "id": "a5a8e6df",
   "metadata": {},
   "outputs": [],
   "source": [
    "data[\"neg\"] = negative\n",
    "data[\"pos\"] = positive\n",
    "data[\"neu\"] = neutral        # adding new features to dataset based on  Sentiment Intensity Analyzer\n",
    "data[\"compound\"] = compound"
   ]
  },
  {
   "cell_type": "code",
   "execution_count": 14,
   "id": "3bb647a1",
   "metadata": {},
   "outputs": [
    {
     "data": {
      "text/html": [
       "<div>\n",
       "<style scoped>\n",
       "    .dataframe tbody tr th:only-of-type {\n",
       "        vertical-align: middle;\n",
       "    }\n",
       "\n",
       "    .dataframe tbody tr th {\n",
       "        vertical-align: top;\n",
       "    }\n",
       "\n",
       "    .dataframe thead th {\n",
       "        text-align: right;\n",
       "    }\n",
       "</style>\n",
       "<table border=\"1\" class=\"dataframe\">\n",
       "  <thead>\n",
       "    <tr style=\"text-align: right;\">\n",
       "      <th></th>\n",
       "      <th>school_state</th>\n",
       "      <th>teacher_prefix</th>\n",
       "      <th>project_grade_category</th>\n",
       "      <th>teacher_number_of_previously_posted_projects</th>\n",
       "      <th>project_is_approved</th>\n",
       "      <th>clean_categories</th>\n",
       "      <th>clean_subcategories</th>\n",
       "      <th>essay</th>\n",
       "      <th>price</th>\n",
       "      <th>neg</th>\n",
       "      <th>pos</th>\n",
       "      <th>neu</th>\n",
       "      <th>compound</th>\n",
       "    </tr>\n",
       "  </thead>\n",
       "  <tbody>\n",
       "    <tr>\n",
       "      <th>0</th>\n",
       "      <td>ca</td>\n",
       "      <td>mrs</td>\n",
       "      <td>grades_prek_2</td>\n",
       "      <td>53</td>\n",
       "      <td>1</td>\n",
       "      <td>math_science</td>\n",
       "      <td>appliedsciences health_lifescience</td>\n",
       "      <td>i fortunate enough use fairy tale stem kits cl...</td>\n",
       "      <td>725.05</td>\n",
       "      <td>0.013</td>\n",
       "      <td>0.205</td>\n",
       "      <td>0.783</td>\n",
       "      <td>0.9867</td>\n",
       "    </tr>\n",
       "    <tr>\n",
       "      <th>1</th>\n",
       "      <td>ut</td>\n",
       "      <td>ms</td>\n",
       "      <td>grades_3_5</td>\n",
       "      <td>4</td>\n",
       "      <td>1</td>\n",
       "      <td>specialneeds</td>\n",
       "      <td>specialneeds</td>\n",
       "      <td>imagine 8 9 years old you third grade classroo...</td>\n",
       "      <td>213.03</td>\n",
       "      <td>0.072</td>\n",
       "      <td>0.248</td>\n",
       "      <td>0.680</td>\n",
       "      <td>0.9897</td>\n",
       "    </tr>\n",
       "    <tr>\n",
       "      <th>2</th>\n",
       "      <td>ca</td>\n",
       "      <td>mrs</td>\n",
       "      <td>grades_prek_2</td>\n",
       "      <td>10</td>\n",
       "      <td>1</td>\n",
       "      <td>literacy_language</td>\n",
       "      <td>literacy</td>\n",
       "      <td>having class 24 students comes diverse learner...</td>\n",
       "      <td>329.00</td>\n",
       "      <td>0.017</td>\n",
       "      <td>0.262</td>\n",
       "      <td>0.721</td>\n",
       "      <td>0.9860</td>\n",
       "    </tr>\n",
       "    <tr>\n",
       "      <th>3</th>\n",
       "      <td>ga</td>\n",
       "      <td>mrs</td>\n",
       "      <td>grades_prek_2</td>\n",
       "      <td>2</td>\n",
       "      <td>1</td>\n",
       "      <td>appliedlearning</td>\n",
       "      <td>earlydevelopment</td>\n",
       "      <td>i recently read article giving students choice...</td>\n",
       "      <td>481.04</td>\n",
       "      <td>0.030</td>\n",
       "      <td>0.187</td>\n",
       "      <td>0.783</td>\n",
       "      <td>0.9524</td>\n",
       "    </tr>\n",
       "    <tr>\n",
       "      <th>4</th>\n",
       "      <td>wa</td>\n",
       "      <td>mrs</td>\n",
       "      <td>grades_3_5</td>\n",
       "      <td>2</td>\n",
       "      <td>1</td>\n",
       "      <td>literacy_language</td>\n",
       "      <td>literacy</td>\n",
       "      <td>my students crave challenge eat obstacles brea...</td>\n",
       "      <td>17.74</td>\n",
       "      <td>0.029</td>\n",
       "      <td>0.288</td>\n",
       "      <td>0.683</td>\n",
       "      <td>0.9873</td>\n",
       "    </tr>\n",
       "  </tbody>\n",
       "</table>\n",
       "</div>"
      ],
      "text/plain": [
       "  school_state teacher_prefix project_grade_category  \\\n",
       "0           ca            mrs          grades_prek_2   \n",
       "1           ut             ms             grades_3_5   \n",
       "2           ca            mrs          grades_prek_2   \n",
       "3           ga            mrs          grades_prek_2   \n",
       "4           wa            mrs             grades_3_5   \n",
       "\n",
       "   teacher_number_of_previously_posted_projects  project_is_approved  \\\n",
       "0                                            53                    1   \n",
       "1                                             4                    1   \n",
       "2                                            10                    1   \n",
       "3                                             2                    1   \n",
       "4                                             2                    1   \n",
       "\n",
       "    clean_categories                 clean_subcategories  \\\n",
       "0       math_science  appliedsciences health_lifescience   \n",
       "1       specialneeds                        specialneeds   \n",
       "2  literacy_language                            literacy   \n",
       "3    appliedlearning                    earlydevelopment   \n",
       "4  literacy_language                            literacy   \n",
       "\n",
       "                                               essay   price    neg    pos  \\\n",
       "0  i fortunate enough use fairy tale stem kits cl...  725.05  0.013  0.205   \n",
       "1  imagine 8 9 years old you third grade classroo...  213.03  0.072  0.248   \n",
       "2  having class 24 students comes diverse learner...  329.00  0.017  0.262   \n",
       "3  i recently read article giving students choice...  481.04  0.030  0.187   \n",
       "4  my students crave challenge eat obstacles brea...   17.74  0.029  0.288   \n",
       "\n",
       "     neu  compound  \n",
       "0  0.783    0.9867  \n",
       "1  0.680    0.9897  \n",
       "2  0.721    0.9860  \n",
       "3  0.783    0.9524  \n",
       "4  0.683    0.9873  "
      ]
     },
     "execution_count": 14,
     "metadata": {},
     "output_type": "execute_result"
    }
   ],
   "source": [
    "data.head()"
   ]
  },
  {
   "cell_type": "markdown",
   "id": "25472514",
   "metadata": {},
   "source": [
    "# Splitting Data Into Train And Cross Validation(or test): Stratified Sampling"
   ]
  },
  {
   "cell_type": "code",
   "execution_count": 15,
   "id": "7f0e4b6e",
   "metadata": {},
   "outputs": [],
   "source": [
    "y = data['project_is_approved'].values\n",
    "X = data.drop(['project_is_approved'], axis=1)"
   ]
  },
  {
   "cell_type": "code",
   "execution_count": 16,
   "id": "6885f73c",
   "metadata": {},
   "outputs": [],
   "source": [
    "X_train, X_test, y_train, y_test = train_test_split(X, y, test_size=0.33, stratify=y,random_state=42) "
   ]
  },
  {
   "cell_type": "code",
   "execution_count": 17,
   "id": "3c538109",
   "metadata": {},
   "outputs": [
    {
     "name": "stdout",
     "output_type": "stream",
     "text": [
      "Total data points in Train Dataset = 73196\n",
      "Total data points in Test Dataset = 36052\n"
     ]
    }
   ],
   "source": [
    "print(\"Total data points in Train Dataset =\",len(y_train))\n",
    "print(\"Total data points in Test Dataset =\",len(y_test))"
   ]
  },
  {
   "cell_type": "code",
   "execution_count": 18,
   "id": "c0b7e073",
   "metadata": {},
   "outputs": [
    {
     "name": "stdout",
     "output_type": "stream",
     "text": [
      "After vectorizations\n",
      "(73196, 5000) (73196,)\n",
      "(36052, 5000) (36052,)\n",
      "========================================\n"
     ]
    }
   ],
   "source": [
    "tfidfvectorizer = TfidfVectorizer(min_df=10,max_features=5000)\n",
    "text_tfidf = tfidfvectorizer.fit(X_train['essay'].values) #fitting\n",
    "\n",
    "X_train_essay_tfidf =tfidfvectorizer.transform(X_train['essay'].values) \n",
    "X_test_essay_tfidf =tfidfvectorizer.transform(X_test['essay'].values)   # transform\n",
    "\n",
    "print(\"After vectorizations\")\n",
    "print(X_train_essay_tfidf.shape, y_train.shape)\n",
    "print(X_test_essay_tfidf.shape, y_test.shape)\n",
    "print(\"=\"*40)"
   ]
  },
  {
   "cell_type": "markdown",
   "id": "799c37ea",
   "metadata": {},
   "source": [
    "# TFIDF W2V"
   ]
  },
  {
   "cell_type": "code",
   "execution_count": 19,
   "id": "2e22ea1a",
   "metadata": {},
   "outputs": [],
   "source": [
    "import pickle\n",
    "with open('C:\\\\Users\\\\amitk\\\\OneDrive\\\\Desktop\\\\glove_vectors', 'rb') as f:\n",
    "    model = pickle.load(f)\n",
    "    glove_words =  set(model.keys())"
   ]
  },
  {
   "cell_type": "code",
   "execution_count": 20,
   "id": "a0d22efc",
   "metadata": {},
   "outputs": [],
   "source": [
    "tfidf_model = TfidfVectorizer()\n",
    "tfidf_model.fit(X_train['essay'].values)\n",
    "dictionary = dict(zip(tfidf_model.get_feature_names(), list(tfidf_model.idf_)))\n",
    "tfidf_words = set(tfidf_model.get_feature_names())"
   ]
  },
  {
   "cell_type": "code",
   "execution_count": 21,
   "id": "e4144c9d",
   "metadata": {},
   "outputs": [
    {
     "name": "stderr",
     "output_type": "stream",
     "text": [
      "100%|███████████████████████████████████████████████████████████████████████████| 73196/73196 [02:25<00:00, 502.14it/s]\n"
     ]
    },
    {
     "name": "stdout",
     "output_type": "stream",
     "text": [
      "After vectorizations\n",
      "(73196, 300) (73196,)\n",
      "========================================\n"
     ]
    }
   ],
   "source": [
    "#TFIDF W2V for train dataset\n",
    "train_tfidf_w2v_essays = [] # the tfidf-w2v for each essay is stored in this list\n",
    "for sentence in tqdm(X_train['essay']): \n",
    "    vector = np.zeros(300) \n",
    "    tf_idf_weight =0; \n",
    "    for word in sentence.split():\n",
    "        if (word in glove_words) and (word in tfidf_words):\n",
    "            vec = model[word] \n",
    "            tf_idf = dictionary[word]*(sentence.count(word)/len(sentence.split())) \n",
    "            vector += (vec * tf_idf) \n",
    "            tf_idf_weight += tf_idf\n",
    "    if tf_idf_weight != 0:\n",
    "        vector /= tf_idf_weight\n",
    "    train_tfidf_w2v_essays.append(vector)\n",
    "X_train_essay_tfidf_w2v= sparse.csr_matrix(train_tfidf_w2v_essays)\n",
    "print(\"After vectorizations\")\n",
    "print(X_train_essay_tfidf_w2v.shape, y_train.shape)\n",
    "print(\"=\"*40)"
   ]
  },
  {
   "cell_type": "code",
   "execution_count": 22,
   "id": "110a3773",
   "metadata": {},
   "outputs": [
    {
     "name": "stderr",
     "output_type": "stream",
     "text": [
      "100%|███████████████████████████████████████████████████████████████████████████| 36052/36052 [01:11<00:00, 502.14it/s]\n"
     ]
    },
    {
     "name": "stdout",
     "output_type": "stream",
     "text": [
      "After vectorizations\n",
      "(36052, 300) (36052,)\n",
      "========================================\n"
     ]
    }
   ],
   "source": [
    "#TFIDF W2V for test dataset\n",
    "test_tfidf_w2v_essays = [] # the tfidf-w2v for each essay is stored in this list\n",
    "for sentence in tqdm(X_test['essay']): \n",
    "    vector = np.zeros(300) \n",
    "    tf_idf_weight =0;\n",
    "    for word in sentence.split():\n",
    "        if (word in glove_words) and (word in tfidf_words):\n",
    "            vec = model[word] \n",
    "            tf_idf = dictionary[word]*(sentence.count(word)/len(sentence.split())) \n",
    "            vector += (vec * tf_idf)\n",
    "            tf_idf_weight += tf_idf\n",
    "    if tf_idf_weight != 0:\n",
    "        vector /= tf_idf_weight\n",
    "    test_tfidf_w2v_essays.append(vector)\n",
    "X_test_essay_tfidf_w2v= sparse.csr_matrix(test_tfidf_w2v_essays)\n",
    "print(\"After vectorizations\")\n",
    "print(X_test_essay_tfidf_w2v.shape, y_test.shape)\n",
    "print(\"=\"*40)"
   ]
  },
  {
   "cell_type": "code",
   "execution_count": 23,
   "id": "64eb1fbc",
   "metadata": {},
   "outputs": [],
   "source": [
    "def fit(feature):\n",
    "    X_train['class_label']=y_train # adding 'project_is_approved' column to x_train\n",
    "    count = X_train[ feature ].value_counts() # getting value counts(denominator) of each category\n",
    "    feature_dictionary = dict()\n",
    "    for i, denominator in count.items():\n",
    "        vector = []\n",
    "        for j in range(2):\n",
    "            compare =X_train.loc[ ( X_train['class_label'] == j ) & (X_train[feature] == i ) ]\n",
    "            vector.append( len( compare)  / denominator   )\n",
    "        feature_dictionary[i] = vector    # adding probability of each class label for a pariticular category of feature\n",
    "    return feature_dictionary  \n",
    "def transform(feature, df ):\n",
    "    feature_dictionary = fit(feature)\n",
    "    count = X_train[feature].value_counts()\n",
    "    f=[]\n",
    "    for cat in df[feature]:\n",
    "        if cat in dict( count ).keys():# transform test data with trainning probabilities\n",
    "            f.append( feature_dictionary[cat] )\n",
    "        else:\n",
    "            f.append([0.5, 0.05])\n",
    "    return f"
   ]
  },
  {
   "cell_type": "code",
   "execution_count": 24,
   "id": "73826413",
   "metadata": {},
   "outputs": [
    {
     "name": "stdout",
     "output_type": "stream",
     "text": [
      "After vectorizations\n",
      "(73196, 2) (73196,)\n",
      "(36052, 2) (36052,)\n",
      "========================================\n"
     ]
    }
   ],
   "source": [
    "X_train_state_rc =np.array(transform('school_state',X_train))\n",
    "X_test_state_rc =np.array(transform('school_state',X_test)) \n",
    "print(\"After vectorizations\")\n",
    "print(X_train_state_rc.shape, y_train.shape)\n",
    "print(X_test_state_rc.shape, y_test.shape)\n",
    "print(\"=\"*40)"
   ]
  },
  {
   "cell_type": "code",
   "execution_count": 25,
   "id": "40f2a3f7",
   "metadata": {},
   "outputs": [
    {
     "name": "stdout",
     "output_type": "stream",
     "text": [
      "After vectorizations\n",
      "(73196, 2) (73196,)\n",
      "(36052, 2) (36052,)\n",
      "========================================\n"
     ]
    }
   ],
   "source": [
    "X_train_teacher_rc =np.array(transform('teacher_prefix',X_train))\n",
    "X_test_teacher_rc = np.array(transform('teacher_prefix',X_test))\n",
    "print(\"After vectorizations\")\n",
    "print(X_train_teacher_rc.shape, y_train.shape)\n",
    "print(X_test_teacher_rc.shape, y_test.shape)\n",
    "print(\"=\"*40)"
   ]
  },
  {
   "cell_type": "code",
   "execution_count": 26,
   "id": "493f7c68",
   "metadata": {},
   "outputs": [
    {
     "name": "stdout",
     "output_type": "stream",
     "text": [
      "After vectorizations\n",
      "(73196, 2) (73196,)\n",
      "(36052, 2) (36052,)\n",
      "========================================\n"
     ]
    }
   ],
   "source": [
    "X_train_grade_rc = np.array(transform('project_grade_category',X_train))\n",
    "X_test_grade_rc = np.array(transform('project_grade_category',X_test))\n",
    "\n",
    "print(\"After vectorizations\")\n",
    "print(X_train_grade_rc.shape, y_train.shape)\n",
    "print(X_test_grade_rc.shape, y_test.shape)\n",
    "print(\"=\"*40)"
   ]
  },
  {
   "cell_type": "code",
   "execution_count": 27,
   "id": "5cff7cb8",
   "metadata": {},
   "outputs": [
    {
     "name": "stdout",
     "output_type": "stream",
     "text": [
      "After vectorizations\n",
      "(73196, 2) (73196,)\n",
      "(36052, 2) (36052,)\n",
      "========================================\n"
     ]
    }
   ],
   "source": [
    "X_train_category_rc =np.array(transform('clean_categories',X_train))\n",
    "X_test_category_rc = np.array(transform('clean_categories',X_test))\n",
    "\n",
    "print(\"After vectorizations\")\n",
    "print(X_train_category_rc.shape, y_train.shape)\n",
    "print(X_test_category_rc.shape, y_test.shape)\n",
    "print(\"=\"*40)"
   ]
  },
  {
   "cell_type": "code",
   "execution_count": 28,
   "id": "4f10b28f",
   "metadata": {},
   "outputs": [
    {
     "name": "stdout",
     "output_type": "stream",
     "text": [
      "After vectorizations\n",
      "(73196, 2) (73196,)\n",
      "(36052, 2) (36052,)\n",
      "========================================\n"
     ]
    }
   ],
   "source": [
    "X_train_subcategory_rc = np.array(transform('clean_subcategories',X_train))\n",
    "X_test_subcategory_rc = np.array(transform('clean_subcategories',X_test))\n",
    "print(\"After vectorizations\")\n",
    "print(X_train_subcategory_rc.shape, y_train.shape)\n",
    "print(X_test_subcategory_rc.shape, y_test.shape)\n",
    "print(\"=\"*40)"
   ]
  },
  {
   "cell_type": "code",
   "execution_count": 29,
   "id": "547fb254",
   "metadata": {},
   "outputs": [
    {
     "name": "stdout",
     "output_type": "stream",
     "text": [
      "After vectorizations\n",
      "(73196, 1) (73196,)\n",
      "(36052, 1) (36052,)\n",
      "========================================\n"
     ]
    }
   ],
   "source": [
    "from sklearn.preprocessing import Normalizer\n",
    "normalizer = Normalizer()\n",
    "#normalizer.fit(X_train['price'].values.reshape(1,-1)) #fitting\n",
    "\n",
    "X_train_price_norm = normalizer.transform(X_train['price'].values.reshape(1,-1))  #transform\n",
    "X_test_price_norm = normalizer.transform(X_test['price'].values.reshape(1,-1))\n",
    "\n",
    "X_train_price_norm =X_train_price_norm.reshape(-1,1)\n",
    "X_test_price_norm=X_test_price_norm.reshape(-1,1)\n",
    "\n",
    "print(\"After vectorizations\")\n",
    "print(X_train_price_norm.shape, y_train.shape)\n",
    "print(X_test_price_norm.shape, y_test.shape)\n",
    "print(\"=\"*40)"
   ]
  },
  {
   "cell_type": "code",
   "execution_count": 30,
   "id": "12328e14",
   "metadata": {},
   "outputs": [
    {
     "name": "stdout",
     "output_type": "stream",
     "text": [
      "After vectorizations\n",
      "(73196, 1) (73196,)\n",
      "(36052, 1) (36052,)\n",
      "========================================\n"
     ]
    }
   ],
   "source": [
    "from sklearn.preprocessing import Normalizer\n",
    "normalizer = Normalizer()\n",
    "#normalizer.fit(X_train['teacher_number_of_previously_posted_projects'].values.reshape(1,-1)) #fitting\n",
    "X_train_submission_norm = normalizer.transform(X_train['teacher_number_of_previously_posted_projects'].values.reshape(1,-1))  #transform\n",
    "X_test_submission_norm = normalizer.transform(X_test['teacher_number_of_previously_posted_projects'].values.reshape(1,-1))\n",
    "\n",
    "X_train_submission_norm =X_train_submission_norm .reshape(-1,1)\n",
    "X_test_submission_norm=X_test_submission_norm.reshape(-1,1)\n",
    "\n",
    "print(\"After vectorizations\")\n",
    "print(X_train_submission_norm.shape, y_train.shape)\n",
    "print(X_test_submission_norm.shape, y_test.shape)\n",
    "print(\"=\"*40)"
   ]
  },
  {
   "cell_type": "code",
   "execution_count": 31,
   "id": "215c2f2a",
   "metadata": {},
   "outputs": [
    {
     "name": "stdout",
     "output_type": "stream",
     "text": [
      "After vectorizations\n",
      "(73196, 1) (73196,)\n",
      "(36052, 1) (36052,)\n",
      "========================================\n"
     ]
    }
   ],
   "source": [
    "from sklearn.preprocessing import Normalizer\n",
    "normalizer = Normalizer()\n",
    "#normalizer.fit(X_train['neg'].values.reshape(1,-1)) #fitting\n",
    "\n",
    "X_train_neg_norm = normalizer.transform(X_train['neg'].values.reshape(1,-1))  #transform\n",
    "X_test_neg_norm = normalizer.transform(X_test['neg'].values.reshape(1,-1))\n",
    "\n",
    "X_train_neg_norm =X_train_neg_norm .reshape(-1,1)\n",
    "X_test_neg_norm=X_test_neg_norm.reshape(-1,1)\n",
    "\n",
    "print(\"After vectorizations\")\n",
    "print(X_train_neg_norm.shape, y_train.shape)\n",
    "print(X_test_neg_norm.shape, y_test.shape)\n",
    "print(\"=\"*40)"
   ]
  },
  {
   "cell_type": "code",
   "execution_count": 32,
   "id": "1fcb1cc9",
   "metadata": {},
   "outputs": [
    {
     "name": "stdout",
     "output_type": "stream",
     "text": [
      "After vectorizations\n",
      "(73196, 1) (73196,)\n",
      "(36052, 1) (36052,)\n",
      "========================================\n"
     ]
    }
   ],
   "source": [
    "from sklearn.preprocessing import Normalizer\n",
    "normalizer = Normalizer()\n",
    "#normalizer.fit(X_train['pos'].values.reshape(1,-1)) #fitting\n",
    "\n",
    "X_train_pos_norm = normalizer.transform(X_train['pos'].values.reshape(1,-1))  #transform\n",
    "X_test_pos_norm = normalizer.transform(X_test['pos'].values.reshape(1,-1))\n",
    "\n",
    "X_train_pos_norm =X_train_pos_norm .reshape(-1,1)\n",
    "X_test_pos_norm=X_test_neg_norm.reshape(-1,1)\n",
    "\n",
    "print(\"After vectorizations\")\n",
    "print(X_train_pos_norm.shape, y_train.shape)\n",
    "print(X_test_pos_norm.shape, y_test.shape)\n",
    "print(\"=\"*40)"
   ]
  },
  {
   "cell_type": "code",
   "execution_count": 33,
   "id": "dfa0f96a",
   "metadata": {},
   "outputs": [
    {
     "name": "stdout",
     "output_type": "stream",
     "text": [
      "After vectorizations\n",
      "(73196, 1) (73196,)\n",
      "(36052, 1) (36052,)\n",
      "========================================\n"
     ]
    }
   ],
   "source": [
    "from sklearn.preprocessing import Normalizer\n",
    "normalizer = Normalizer()\n",
    "#normalizer.fit(X_train['neu'].values.reshape(1,-1)) #fitting\n",
    "X_train_neu_norm = normalizer.transform(X_train['neu'].values.reshape(1,-1))\n",
    "X_test_neu_norm = normalizer.transform(X_test['neu'].values.reshape(1,-1))\n",
    "\n",
    "X_train_neu_norm =X_train_neu_norm .reshape(-1,1)\n",
    "X_test_neu_norm=X_test_neu_norm.reshape(-1,1)\n",
    "\n",
    "print(\"After vectorizations\")\n",
    "print(X_train_neu_norm.shape, y_train.shape)\n",
    "print(X_test_neu_norm.shape, y_test.shape)\n",
    "print(\"=\"*40)"
   ]
  },
  {
   "cell_type": "code",
   "execution_count": 34,
   "id": "9ee1e7d5",
   "metadata": {},
   "outputs": [
    {
     "name": "stdout",
     "output_type": "stream",
     "text": [
      "After vectorizations\n",
      "(73196, 1) (73196,)\n",
      "(36052, 1) (36052,)\n",
      "========================================\n"
     ]
    }
   ],
   "source": [
    "from sklearn.preprocessing import Normalizer\n",
    "normalizer = Normalizer()\n",
    "#normalizer.fit(X_train['compound'].values.reshape(1,-1)) #fitting\n",
    "\n",
    "X_train_compound_norm = normalizer.transform(X_train['compound'].values.reshape(1,-1))  #transform\n",
    "X_test_compound_norm = normalizer.transform(X_test['compound'].values.reshape(1,-1))\n",
    "\n",
    "X_train_compound_norm =X_train_compound_norm .reshape(-1,1)\n",
    "X_test_compound_norm=X_test_neu_norm.reshape(-1,1)\n",
    "\n",
    "print(\"After vectorizations\")\n",
    "print(X_train_compound_norm.shape, y_train.shape)\n",
    "print(X_test_compound_norm.shape, y_test.shape)\n",
    "print(\"=\"*40)"
   ]
  },
  {
   "cell_type": "code",
   "execution_count": 35,
   "id": "1243bdab",
   "metadata": {},
   "outputs": [],
   "source": [
    "from scipy.sparse import hstack\n",
    "X_tr_set_one = hstack((X_train_essay_tfidf, X_train_state_rc, X_train_teacher_rc, X_train_grade_rc, X_train_price_norm,X_train_category_rc,X_train_subcategory_rc,X_train_submission_norm,X_train_neg_norm ,X_train_pos_norm,X_train_neu_norm,X_train_compound_norm)).tocsr()\n",
    "X_te_set_one = hstack((X_test_essay_tfidf, X_test_state_rc, X_test_teacher_rc, X_test_grade_rc, X_test_price_norm,X_test_category_rc,X_test_subcategory_rc,X_test_submission_norm,X_test_neg_norm,X_test_pos_norm,X_test_neu_norm,X_test_compound_norm)).tocsr()\n"
   ]
  },
  {
   "cell_type": "code",
   "execution_count": 36,
   "id": "01162b14",
   "metadata": {},
   "outputs": [
    {
     "name": "stdout",
     "output_type": "stream",
     "text": [
      "SHAPE OF TRAIN AND TEST AFTER STACKING\n",
      "(73196, 5016)\n",
      "(36052, 5016)\n"
     ]
    }
   ],
   "source": [
    "print(\"SHAPE OF TRAIN AND TEST AFTER STACKING\")\n",
    "print(X_tr_set_one.shape)\n",
    "print(X_te_set_one.shape)\n"
   ]
  },
  {
   "cell_type": "code",
   "execution_count": 37,
   "id": "2c024b27",
   "metadata": {},
   "outputs": [],
   "source": [
    "from scipy.sparse import hstack\n",
    "X_tr_set_two = hstack((X_train_essay_tfidf_w2v, X_train_state_rc, X_train_teacher_rc, X_train_grade_rc, X_train_price_norm,X_train_category_rc,X_train_subcategory_rc,X_train_submission_norm)).tocsr()\n",
    "X_te_set_two = hstack((X_test_essay_tfidf_w2v, X_test_state_rc, X_test_teacher_rc, X_test_grade_rc, X_test_price_norm,X_test_category_rc,X_test_subcategory_rc,X_test_submission_norm)).tocsr()\n"
   ]
  },
  {
   "cell_type": "code",
   "execution_count": 38,
   "id": "af53a65c",
   "metadata": {},
   "outputs": [
    {
     "name": "stdout",
     "output_type": "stream",
     "text": [
      "SHAPE OF TRAIN AND TEST AFTER STACKING\n",
      "(73196, 312)\n",
      "(36052, 312)\n"
     ]
    }
   ],
   "source": [
    "print(\"SHAPE OF TRAIN AND TEST AFTER STACKING\")\n",
    "print(X_tr_set_two.shape)\n",
    "print(X_te_set_two.shape)"
   ]
  },
  {
   "cell_type": "code",
   "execution_count": 39,
   "id": "e503046b",
   "metadata": {},
   "outputs": [
    {
     "data": {
      "text/plain": [
       "GridSearchCV(cv=5, estimator=GradientBoostingClassifier(), n_jobs=-1,\n",
       "             param_grid={'max_depth': [1, 2, 3, 4],\n",
       "                         'n_estimators': [5, 10, 15, 20]},\n",
       "             return_train_score=True, scoring='roc_auc')"
      ]
     },
     "execution_count": 39,
     "metadata": {},
     "output_type": "execute_result"
    }
   ],
   "source": [
    "from sklearn.ensemble import GradientBoostingClassifier\n",
    "from sklearn.model_selection import GridSearchCV\n",
    "parameters = {\"max_depth\":[1,2,3,4],\"n_estimators\":[5,10,15,20] }\n",
    "clf = GridSearchCV(GradientBoostingClassifier(), parameters, cv=5,  scoring='roc_auc',return_train_score=True,n_jobs=-1)\n",
    "clf.fit(X_tr_set_one,y_train)"
   ]
  },
  {
   "cell_type": "code",
   "execution_count": 40,
   "id": "bb9dd1eb",
   "metadata": {},
   "outputs": [],
   "source": [
    "train_auc= clf.cv_results_['mean_train_score']\n",
    "train_auc_std= clf.cv_results_['std_train_score']\n",
    "cv_auc = clf.cv_results_['mean_test_score'] \n",
    "cv_auc_std= clf.cv_results_['std_test_score']"
   ]
  },
  {
   "cell_type": "code",
   "execution_count": 41,
   "id": "80c5c3bf",
   "metadata": {},
   "outputs": [
    {
     "name": "stdout",
     "output_type": "stream",
     "text": [
      "Best score:  0.6849341618522009\n",
      "Best Hyper parameters:  {'max_depth': 4, 'n_estimators': 20}\n"
     ]
    }
   ],
   "source": [
    "print('Best score: ',clf.best_score_)\n",
    "print('Best Hyper parameters: ',clf.best_params_)"
   ]
  },
  {
   "cell_type": "code",
   "execution_count": 42,
   "id": "2583ca05",
   "metadata": {},
   "outputs": [
    {
     "data": {
      "image/png": "[encoded data removed]",
      "text/plain": [
       "<Figure size 720x432 with 2 Axes>"
      ]
     },
     "metadata": {
      "needs_background": "light"
     },
     "output_type": "display_data"
    }
   ],
   "source": [
    "import pandas as pd\n",
    "pvt = pd.pivot_table(pd.DataFrame(clf.cv_results_),\n",
    "    values='mean_train_score', index='param_max_depth', columns='param_n_estimators') #https://stackoverflow.com/questions/48791709/how-to-plot-a-heat-map-on-pivot-table-after-grid-search\n",
    "plt.figure(figsize=(10,6))\n",
    "ax=sns.heatmap(pvt,annot=True,linewidths=.5)"
   ]
  },
  {
   "cell_type": "code",
   "execution_count": 43,
   "id": "3084debe",
   "metadata": {},
   "outputs": [
    {
     "data": {
      "image/png": "[encoded data removed]",
      "text/plain": [
       "<Figure size 720x432 with 2 Axes>"
      ]
     },
     "metadata": {
      "needs_background": "light"
     },
     "output_type": "display_data"
    }
   ],
   "source": [
    "import pandas as pd\n",
    "pvt = pd.pivot_table(pd.DataFrame(clf.cv_results_),\n",
    "    values='mean_test_score', index='param_max_depth', columns='param_n_estimators') #https://stackoverflow.com/questions/48791709/how-to-plot-a-heat-map-on-pivot-table-after-grid-search\n",
    "plt.figure(figsize=(10,6))\n",
    "ax=sns.heatmap(pvt,annot=True,linewidths=.5)"
   ]
  },
  {
   "cell_type": "code",
   "execution_count": 44,
   "id": "5a8d4081",
   "metadata": {},
   "outputs": [
    {
     "data": {
      "image/png": "[encoded data removed]",
      "text/plain": [
       "<Figure size 864x576 with 1 Axes>"
      ]
     },
     "metadata": {
      "needs_background": "light"
     },
     "output_type": "display_data"
    }
   ],
   "source": [
    "model_set1=GradientBoostingClassifier(max_depth = clf.best_params_[\"max_depth\"], n_estimators= clf.best_params_[\"n_estimators\"])\n",
    "model_set1.fit(X_tr_set_one,y_train)\n",
    "y_train_probs = clf.predict_proba(X_tr_set_one)[:,1] # converting train and test output into probability\n",
    "y_test_probs= clf.predict_proba(X_te_set_one )[:,1]\n",
    "\n",
    "train_fpr, train_tpr, tr_thresholds = roc_curve(y_train, y_train_probs) # storing values of fpr and tpr\n",
    "test_fpr, test_tpr, te_thresholds = roc_curve(y_test, y_test_probs)\n",
    "\n",
    "plt.figure(figsize=(12,8))\n",
    "plt.plot(train_fpr, train_tpr, label=\"Train AUC =\"+str(auc(train_fpr, train_tpr)))\n",
    "plt.plot(test_fpr, test_tpr, label=\"Test AUC =\"+str(auc(test_fpr, test_tpr)))\n",
    "plt.legend()\n",
    "plt.xlabel(\"False Positive Rate(FPR)\")\n",
    "plt.ylabel(\"True Positive Rate(TPR)\")\n",
    "plt.title(\"ROC CURVE\")\n",
    "plt.grid(color='black',lw=0.5)"
   ]
  },
  {
   "cell_type": "code",
   "execution_count": 45,
   "id": "7ed7cbed",
   "metadata": {},
   "outputs": [],
   "source": [
    "def find_best_threshold(threshould, fpr, tpr):\n",
    "    t = threshould[np.argmax(tpr*(1-fpr))]\n",
    "    # (tpr*(1-fpr)) will be maximum if your fpr is very low and tpr is very high\n",
    "    print(\"the maximum value of tpr*(1-fpr)\", max(tpr*(1-fpr)), \"for threshold\", np.round(t,3))\n",
    "    return t\n",
    "\n",
    "def predict_with_best_t(proba, threshould):\n",
    "    predictions = []\n",
    "    for i in proba:\n",
    "        if i>=threshould:\n",
    "            predictions.append(1)\n",
    "        else:\n",
    "            predictions.append(0)\n",
    "    return predictions"
   ]
  },
  {
   "cell_type": "code",
   "execution_count": 46,
   "id": "c761ae9a",
   "metadata": {},
   "outputs": [
    {
     "name": "stdout",
     "output_type": "stream",
     "text": [
      "the maximum value of tpr*(1-fpr) 0.42971731634481375 for threshold 0.849\n",
      "CONFUSION MATRIX OF TRAIN DATA\n",
      "\n",
      "\n",
      "[[ 7328  3755]\n",
      " [21745 40368]]\n"
     ]
    },
    {
     "data": {
      "text/plain": [
       "Text(0.5, 1.0, 'Train Data Confusion Matrix')"
      ]
     },
     "execution_count": 46,
     "metadata": {},
     "output_type": "execute_result"
    },
    {
     "data": {
      "image/png": "[encoded data removed]",
      "text/plain": [
       "<Figure size 432x288 with 2 Axes>"
      ]
     },
     "metadata": {
      "needs_background": "light"
     },
     "output_type": "display_data"
    }
   ],
   "source": [
    "best_t = find_best_threshold(tr_thresholds, train_fpr, train_tpr)\n",
    "cm=metrics.confusion_matrix(y_train,predict_with_best_t(y_train_probs, best_t))  # https://stackoverflow.com/questions/35572000/how-can-i-plot-a-confusion-matrix\n",
    "\n",
    "print(\"CONFUSION MATRIX OF TRAIN DATA\")\n",
    "print(\"\\n\")\n",
    "print(cm)\n",
    "sns.heatmap(cm, annot=True, fmt='d',cmap='GnBu',annot_kws = {\"size\":16})\n",
    "plt.ylabel('True Label',size=12)\n",
    "plt.xlabel('Predicted Label',size=12)\n",
    "plt.title('Train Data Confusion Matrix',size=12)"
   ]
  },
  {
   "cell_type": "code",
   "execution_count": 47,
   "id": "a87231ad",
   "metadata": {},
   "outputs": [
    {
     "name": "stdout",
     "output_type": "stream",
     "text": [
      "the maximum value of tpr*(1-fpr) 0.39430602468623105 for threshold 0.844\n",
      "CONFUSION MATRIX OF TEST DATA\n",
      "\n",
      "\n",
      "[[ 3355  2104]\n",
      " [10965 19628]]\n"
     ]
    },
    {
     "data": {
      "text/plain": [
       "Text(0.5, 1.0, 'Test Data Confusion Matrix')"
      ]
     },
     "execution_count": 47,
     "metadata": {},
     "output_type": "execute_result"
    },
    {
     "data": {
      "image/png": "[encoded data removed]",
      "text/plain": [
       "<Figure size 432x288 with 2 Axes>"
      ]
     },
     "metadata": {
      "needs_background": "light"
     },
     "output_type": "display_data"
    }
   ],
   "source": [
    "best_t = find_best_threshold(te_thresholds, test_fpr, test_tpr)\n",
    "cm=metrics.confusion_matrix(y_test,predict_with_best_t(y_test_probs, best_t))\n",
    "  \n",
    "print(\"CONFUSION MATRIX OF TEST DATA\")\n",
    "print('\\n')\n",
    "print(cm)\n",
    "sns.heatmap(cm, annot=True, fmt='d',cmap='GnBu',annot_kws = {\"size\":16})\n",
    "plt.ylabel('True Label',size=12)\n",
    "plt.xlabel('Predicted Label',size=12)\n",
    "plt.title('Test Data Confusion Matrix',size=12)"
   ]
  },
  {
   "cell_type": "code",
   "execution_count": 48,
   "id": "f1d1b0e7",
   "metadata": {},
   "outputs": [
    {
     "data": {
      "text/plain": [
       "GridSearchCV(cv=5, estimator=GradientBoostingClassifier(), n_jobs=-1,\n",
       "             param_grid={'max_depth': [1, 2, 3, 4],\n",
       "                         'n_estimators': [5, 10, 15, 20]},\n",
       "             return_train_score=True, scoring='roc_auc')"
      ]
     },
     "execution_count": 48,
     "metadata": {},
     "output_type": "execute_result"
    }
   ],
   "source": [
    "from sklearn.ensemble import GradientBoostingClassifier\n",
    "from sklearn.model_selection import GridSearchCV\n",
    "parameters = {\"max_depth\":[1,2,3,4],\"n_estimators\":[5,10,15,20] }\n",
    "clf = GridSearchCV(GradientBoostingClassifier(), parameters, cv=5,  scoring='roc_auc',return_train_score=True,n_jobs=-1)\n",
    "clf.fit(X_tr_set_two,y_train)"
   ]
  },
  {
   "cell_type": "code",
   "execution_count": 49,
   "id": "ab2daea7",
   "metadata": {},
   "outputs": [],
   "source": [
    "train_auc= clf.cv_results_['mean_train_score']\n",
    "train_auc_std= clf.cv_results_['std_train_score']\n",
    "cv_auc = clf.cv_results_['mean_test_score'] \n",
    "cv_auc_std= clf.cv_results_['std_test_score']"
   ]
  },
  {
   "cell_type": "code",
   "execution_count": 50,
   "id": "786afd39",
   "metadata": {},
   "outputs": [
    {
     "name": "stdout",
     "output_type": "stream",
     "text": [
      "Best score:  0.690322767250764\n",
      "Best Hyper parameters:  {'max_depth': 4, 'n_estimators': 20}\n"
     ]
    }
   ],
   "source": [
    "print('Best score: ',clf.best_score_)\n",
    "print('Best Hyper parameters: ',clf.best_params_)"
   ]
  },
  {
   "cell_type": "code",
   "execution_count": 58,
   "id": "ad55d611",
   "metadata": {},
   "outputs": [
    {
     "data": {
      "image/png": "[encoded data removed]",
      "text/plain": [
       "<Figure size 720x432 with 2 Axes>"
      ]
     },
     "metadata": {
      "needs_background": "light"
     },
     "output_type": "display_data"
    }
   ],
   "source": [
    "import pandas as pd\n",
    "pvt = pd.pivot_table(pd.DataFrame(clf.cv_results_),\n",
    "    values='mean_train_score', index='param_max_depth', columns='param_n_estimators') #https://stackoverflow.com/questions/48791709/how-to-plot-a-heat-map-on-pivot-table-after-grid-search\n",
    "plt.figure(figsize=(10,6))\n",
    "ax=sns.heatmap(pvt,annot=True,linewidths=.5)"
   ]
  },
  {
   "cell_type": "code",
   "execution_count": 64,
   "id": "40aa1992",
   "metadata": {},
   "outputs": [
    {
     "data": {
      "image/png": "[encoded data removed]",
      "text/plain": [
       "<Figure size 720x432 with 2 Axes>"
      ]
     },
     "metadata": {
      "needs_background": "light"
     },
     "output_type": "display_data"
    }
   ],
   "source": [
    "import pandas as pd\n",
    "pvt = pd.pivot_table(pd.DataFrame(clf.cv_results_),\n",
    "    values='mean_test_score', index='param_max_depth', columns='param_n_estimators') #https://stackoverflow.com/questions/48791709/how-to-plot-a-heat-map-on-pivot-table-after-grid-search\n",
    "plt.figure(figsize=(10,6))\n",
    "ax=sns.heatmap(pvt,annot=True,linewidths=.5)"
   ]
  },
  {
   "cell_type": "code",
   "execution_count": 59,
   "id": "52e11e65",
   "metadata": {},
   "outputs": [
    {
     "data": {
      "image/png": "[encoded data removed]",
      "text/plain": [
       "<Figure size 864x576 with 1 Axes>"
      ]
     },
     "metadata": {
      "needs_background": "light"
     },
     "output_type": "display_data"
    }
   ],
   "source": [
    "model_set2=GradientBoostingClassifier(max_depth = clf.best_params_[\"max_depth\"], n_estimators= clf.best_params_[\"n_estimators\"])\n",
    "model_set2.fit(X_tr_set_one,y_train)\n",
    "y_train_probs = model_set2.predict_proba(X_tr_set_one)[:,1] # converting train and test output into probability\n",
    "y_test_probs= model_set2.predict_proba(X_te_set_one )[:,1]\n",
    "\n",
    "train_fpr, train_tpr, tr_thresholds = roc_curve(y_train, y_train_probs) # storing values of fpr and tpr\n",
    "test_fpr, test_tpr, te_thresholds = roc_curve(y_test, y_test_probs)\n",
    "\n",
    "plt.figure(figsize=(12,8))\n",
    "plt.plot(train_fpr, train_tpr, label=\"Train AUC =\"+str(auc(train_fpr, train_tpr)))\n",
    "plt.plot(test_fpr, test_tpr, label=\"Test AUC =\"+str(auc(test_fpr, test_tpr)))\n",
    "plt.legend()\n",
    "plt.xlabel(\"False Positive Rate(FPR)\")\n",
    "plt.ylabel(\"True Positive Rate(TPR)\")\n",
    "plt.title(\"ROC CURVE\")\n",
    "plt.grid(color='black',lw=0.5)"
   ]
  },
  {
   "cell_type": "code",
   "execution_count": 60,
   "id": "ca32da95",
   "metadata": {},
   "outputs": [],
   "source": [
    "def find_best_threshold(threshould, fpr, tpr):\n",
    "    t = threshould[np.argmax(tpr*(1-fpr))]\n",
    "    # (tpr*(1-fpr)) will be maximum if your fpr is very low and tpr is very high\n",
    "    print(\"the maximum value of tpr*(1-fpr)\", max(tpr*(1-fpr)), \"for threshold\", np.round(t,3))\n",
    "    return t\n",
    "\n",
    "def predict_with_best_t(proba, threshould):\n",
    "    predictions = []\n",
    "    for i in proba:\n",
    "        if i>=threshould:\n",
    "            predictions.append(1)\n",
    "        else:\n",
    "            predictions.append(0)\n",
    "    return predictions"
   ]
  },
  {
   "cell_type": "code",
   "execution_count": 61,
   "id": "f1e1be57",
   "metadata": {},
   "outputs": [
    {
     "name": "stdout",
     "output_type": "stream",
     "text": [
      "the maximum value of tpr*(1-fpr) 0.4297066713458952 for threshold 0.849\n",
      "CONFUSION MATRIX OF TRAIN DATA\n",
      "\n",
      "\n",
      "[[ 7328  3755]\n",
      " [21746 40367]]\n"
     ]
    },
    {
     "data": {
      "text/plain": [
       "Text(0.5, 1.0, 'Train Data Confusion Matrix')"
      ]
     },
     "execution_count": 61,
     "metadata": {},
     "output_type": "execute_result"
    },
    {
     "data": {
      "image/png": "[encoded data removed]",
      "text/plain": [
       "<Figure size 432x288 with 2 Axes>"
      ]
     },
     "metadata": {
      "needs_background": "light"
     },
     "output_type": "display_data"
    }
   ],
   "source": [
    "\n",
    "best_t = find_best_threshold(tr_thresholds, train_fpr, train_tpr)\n",
    "cm=metrics.confusion_matrix(y_train,predict_with_best_t(y_train_probs, best_t))  # https://stackoverflow.com/questions/35572000/how-can-i-plot-a-confusion-matrix\n",
    "\n",
    "print(\"CONFUSION MATRIX OF TRAIN DATA\")\n",
    "print(\"\\n\")\n",
    "print(cm)\n",
    "sns.heatmap(cm, annot=True, fmt='d',cmap='GnBu',annot_kws = {\"size\":16})\n",
    "plt.ylabel('True Label',size=12)\n",
    "plt.xlabel('Predicted Label',size=12)\n",
    "plt.title('Train Data Confusion Matrix',size=12)"
   ]
  },
  {
   "cell_type": "code",
   "execution_count": 62,
   "id": "d34f9650",
   "metadata": {},
   "outputs": [
    {
     "name": "stdout",
     "output_type": "stream",
     "text": [
      "the maximum value of tpr*(1-fpr) 0.3942256688629814 for threshold 0.844\n",
      "CONFUSION MATRIX OF TEST DATA\n",
      "\n",
      "\n",
      "[[ 3355  2104]\n",
      " [10969 19624]]\n"
     ]
    },
    {
     "data": {
      "text/plain": [
       "Text(0.5, 1.0, 'Test Data Confusion Matrix')"
      ]
     },
     "execution_count": 62,
     "metadata": {},
     "output_type": "execute_result"
    },
    {
     "data": {
      "image/png": "[encoded data removed]",
      "text/plain": [
       "<Figure size 432x288 with 2 Axes>"
      ]
     },
     "metadata": {
      "needs_background": "light"
     },
     "output_type": "display_data"
    }
   ],
   "source": [
    "best_t = find_best_threshold(te_thresholds, test_fpr, test_tpr)\n",
    "cm=metrics.confusion_matrix(y_test,predict_with_best_t(y_test_probs, best_t))\n",
    "  \n",
    "print(\"CONFUSION MATRIX OF TEST DATA\")\n",
    "print('\\n')\n",
    "print(cm)\n",
    "sns.heatmap(cm, annot=True, fmt='d',cmap='GnBu',annot_kws = {\"size\":16})\n",
    "plt.ylabel('True Label',size=12)\n",
    "plt.xlabel('Predicted Label',size=12)\n",
    "plt.title('Test Data Confusion Matrix',size=12)"
   ]
  },
  {
   "cell_type": "code",
   "execution_count": 63,
   "id": "26739f15",
   "metadata": {},
   "outputs": [
    {
     "name": "stdout",
     "output_type": "stream",
     "text": [
      "+-------+------------+------------------------------+---------------------------------+----------+\n",
      "| Sl.N0 | Vectorizer |            Model             |         Hyper Parameter         | Test-AUC |\n",
      "+-------+------------+------------------------------+---------------------------------+----------+\n",
      "|   1   |   TFIDF    | GRADIENT BOOSTING CLASSIFIER |  max_depth =4 , n_estimators=20 | 0.67515  |\n",
      "+-------+------------+------------------------------+---------------------------------+----------+\n",
      "|   2   | TFIDF W2V  | GRADIENT BOOSTING CLASSIFIER |  max_depth =4 , n_estimators=20 | 0.67517  |\n",
      "+-------+------------+------------------------------+---------------------------------+----------+\n"
     ]
    }
   ],
   "source": [
    "from prettytable import PrettyTable\n",
    "from prettytable import ALL as ALL\n",
    "table=PrettyTable(hrules=ALL)\n",
    "table.field_names = [ \"Sl.N0\",\"Vectorizer\", \"Model\", \"Hyper Parameter\", \"Test-AUC\"] # # http://zetcode.com/python/prettytable/\n",
    "table.add_row([1,\"TFIDF\", \"GRADIENT BOOSTING CLASSIFIER\", \"max_depth =4 , n_estimators=20\", 0.67515])\n",
    "table.add_row([2,\"TFIDF W2V\", \"GRADIENT BOOSTING CLASSIFIER\",\" max_depth =4 , n_estimators=20\", 0.67517])\n",
    "print(table)"
   ]
  },
  {
   "cell_type": "code",
   "execution_count": null,
   "id": "86269e87",
   "metadata": {},
   "outputs": [],
   "source": []
  }
 ],
 "metadata": {
  "kernelspec": {
   "display_name": "Python 3 (ipykernel)",
   "language": "python",
   "name": "python3"
  },
  "language_info": {
   "codemirror_mode": {
    "name": "ipython",
    "version": 3
   },
   "file_extension": ".py",
   "mimetype": "text/x-python",
   "name": "python",
   "nbconvert_exporter": "python",
   "pygments_lexer": "ipython3",
   "version": "3.9.12"
  }
 },
 "nbformat": 4,
 "nbformat_minor": 5
}

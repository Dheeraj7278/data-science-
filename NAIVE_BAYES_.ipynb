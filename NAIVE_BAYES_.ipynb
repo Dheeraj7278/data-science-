{
 "cells": [
  {
   "cell_type": "code",
   "execution_count": 46,
   "id": "1d94e3ed",
   "metadata": {},
   "outputs": [],
   "source": [
    "%matplotlib inline\n",
    "import warnings\n",
    "warnings.filterwarnings(\"ignore\")\n",
    "\n",
    "import pandas as pd\n",
    "import numpy as np\n",
    "import math as m\n",
    "import matplotlib.pyplot as plt\n",
    "import seaborn as sns\n",
    "import nltk\n",
    "import re\n",
    "\n",
    "from sklearn.feature_extraction.text import TfidfVectorizer\n",
    "from sklearn.feature_extraction.text import CountVectorizer\n",
    "from sklearn.preprocessing import Normalizer\n",
    "from sklearn.metrics import confusion_matrix\n",
    "from sklearn.model_selection import train_test_split\n",
    "from sklearn import metrics\n",
    "from sklearn.metrics import roc_curve, auc\n",
    "from tqdm import tqdm"
   ]
  },
  {
   "cell_type": "markdown",
   "id": "dd6d9f7b",
   "metadata": {},
   "source": [
    "# Importing dataset"
   ]
  },
  {
   "cell_type": "code",
   "execution_count": 47,
   "id": "0fdcfa4d",
   "metadata": {},
   "outputs": [],
   "source": [
    "\n",
    "data = pd.read_csv('C:\\\\Users\\\\amitk\\\\OneDrive\\\\Desktop\\\\preprocessed_data.csv')"
   ]
  },
  {
   "cell_type": "code",
   "execution_count": 48,
   "id": "864e5511",
   "metadata": {},
   "outputs": [
    {
     "data": {
      "text/html": [
       "<div>\n",
       "<style scoped>\n",
       "    .dataframe tbody tr th:only-of-type {\n",
       "        vertical-align: middle;\n",
       "    }\n",
       "\n",
       "    .dataframe tbody tr th {\n",
       "        vertical-align: top;\n",
       "    }\n",
       "\n",
       "    .dataframe thead th {\n",
       "        text-align: right;\n",
       "    }\n",
       "</style>\n",
       "<table border=\"1\" class=\"dataframe\">\n",
       "  <thead>\n",
       "    <tr style=\"text-align: right;\">\n",
       "      <th></th>\n",
       "      <th>school_state</th>\n",
       "      <th>teacher_prefix</th>\n",
       "      <th>project_grade_category</th>\n",
       "      <th>teacher_number_of_previously_posted_projects</th>\n",
       "      <th>project_is_approved</th>\n",
       "      <th>clean_categories</th>\n",
       "      <th>clean_subcategories</th>\n",
       "      <th>essay</th>\n",
       "      <th>price</th>\n",
       "    </tr>\n",
       "  </thead>\n",
       "  <tbody>\n",
       "    <tr>\n",
       "      <th>0</th>\n",
       "      <td>ca</td>\n",
       "      <td>mrs</td>\n",
       "      <td>grades_prek_2</td>\n",
       "      <td>53</td>\n",
       "      <td>1</td>\n",
       "      <td>math_science</td>\n",
       "      <td>appliedsciences health_lifescience</td>\n",
       "      <td>i fortunate enough use fairy tale stem kits cl...</td>\n",
       "      <td>725.05</td>\n",
       "    </tr>\n",
       "    <tr>\n",
       "      <th>1</th>\n",
       "      <td>ut</td>\n",
       "      <td>ms</td>\n",
       "      <td>grades_3_5</td>\n",
       "      <td>4</td>\n",
       "      <td>1</td>\n",
       "      <td>specialneeds</td>\n",
       "      <td>specialneeds</td>\n",
       "      <td>imagine 8 9 years old you third grade classroo...</td>\n",
       "      <td>213.03</td>\n",
       "    </tr>\n",
       "    <tr>\n",
       "      <th>2</th>\n",
       "      <td>ca</td>\n",
       "      <td>mrs</td>\n",
       "      <td>grades_prek_2</td>\n",
       "      <td>10</td>\n",
       "      <td>1</td>\n",
       "      <td>literacy_language</td>\n",
       "      <td>literacy</td>\n",
       "      <td>having class 24 students comes diverse learner...</td>\n",
       "      <td>329.00</td>\n",
       "    </tr>\n",
       "    <tr>\n",
       "      <th>3</th>\n",
       "      <td>ga</td>\n",
       "      <td>mrs</td>\n",
       "      <td>grades_prek_2</td>\n",
       "      <td>2</td>\n",
       "      <td>1</td>\n",
       "      <td>appliedlearning</td>\n",
       "      <td>earlydevelopment</td>\n",
       "      <td>i recently read article giving students choice...</td>\n",
       "      <td>481.04</td>\n",
       "    </tr>\n",
       "    <tr>\n",
       "      <th>4</th>\n",
       "      <td>wa</td>\n",
       "      <td>mrs</td>\n",
       "      <td>grades_3_5</td>\n",
       "      <td>2</td>\n",
       "      <td>1</td>\n",
       "      <td>literacy_language</td>\n",
       "      <td>literacy</td>\n",
       "      <td>my students crave challenge eat obstacles brea...</td>\n",
       "      <td>17.74</td>\n",
       "    </tr>\n",
       "  </tbody>\n",
       "</table>\n",
       "</div>"
      ],
      "text/plain": [
       "  school_state teacher_prefix project_grade_category  \\\n",
       "0           ca            mrs          grades_prek_2   \n",
       "1           ut             ms             grades_3_5   \n",
       "2           ca            mrs          grades_prek_2   \n",
       "3           ga            mrs          grades_prek_2   \n",
       "4           wa            mrs             grades_3_5   \n",
       "\n",
       "   teacher_number_of_previously_posted_projects  project_is_approved  \\\n",
       "0                                            53                    1   \n",
       "1                                             4                    1   \n",
       "2                                            10                    1   \n",
       "3                                             2                    1   \n",
       "4                                             2                    1   \n",
       "\n",
       "    clean_categories                 clean_subcategories  \\\n",
       "0       math_science  appliedsciences health_lifescience   \n",
       "1       specialneeds                        specialneeds   \n",
       "2  literacy_language                            literacy   \n",
       "3    appliedlearning                    earlydevelopment   \n",
       "4  literacy_language                            literacy   \n",
       "\n",
       "                                               essay   price  \n",
       "0  i fortunate enough use fairy tale stem kits cl...  725.05  \n",
       "1  imagine 8 9 years old you third grade classroo...  213.03  \n",
       "2  having class 24 students comes diverse learner...  329.00  \n",
       "3  i recently read article giving students choice...  481.04  \n",
       "4  my students crave challenge eat obstacles brea...   17.74  "
      ]
     },
     "execution_count": 48,
     "metadata": {},
     "output_type": "execute_result"
    }
   ],
   "source": [
    "data.head()"
   ]
  },
  {
   "cell_type": "markdown",
   "id": "237a76f3",
   "metadata": {},
   "source": [
    "### Splitting data into Train and cross validation(or test)"
   ]
  },
  {
   "cell_type": "code",
   "execution_count": 49,
   "id": "5549b427",
   "metadata": {},
   "outputs": [],
   "source": [
    "y = data['project_is_approved'].values\n",
    "X = data.drop(['project_is_approved'], axis=1)"
   ]
  },
  {
   "cell_type": "code",
   "execution_count": 50,
   "id": "9747ffac",
   "metadata": {},
   "outputs": [],
   "source": [
    "X_train, X_test, y_train, y_test = train_test_split(X, y, test_size=0.33, stratify=y,random_state=42) # since we are using grid search no need of extra cross validation data\n",
    "#X_train, X_cv, y_train, y_cv = train_test_split(X_train, y_train, test_size=0.33, stratify=y_train)"
   ]
  },
  {
   "cell_type": "markdown",
   "id": "05b64e44",
   "metadata": {},
   "source": [
    "### Make Data Model Ready: encoding eassay(text feature)"
   ]
  },
  {
   "cell_type": "markdown",
   "id": "33faf9dd",
   "metadata": {},
   "source": [
    "### Bag Of Words"
   ]
  },
  {
   "cell_type": "code",
   "execution_count": 51,
   "id": "9cd52777",
   "metadata": {},
   "outputs": [
    {
     "name": "stdout",
     "output_type": "stream",
     "text": [
      "After vectorizations\n",
      "(73196, 5000) (73196,)\n",
      "(36052, 5000) (36052,)\n",
      "========================================\n"
     ]
    }
   ],
   "source": [
    "vectorizer_bow = CountVectorizer(min_df=10,ngram_range=(1,4), max_features=5000)\n",
    "vectorizer_bow.fit(X_train['essay'].values)  #fitting\n",
    "\n",
    "X_train_essay_bow = vectorizer_bow.transform(X_train['essay'].values) \n",
    "X_test_essay_bow = vectorizer_bow.transform(X_test['essay'].values)\n",
    "\n",
    "print(\"After vectorizations\")\n",
    "print(X_train_essay_bow.shape, y_train.shape)\n",
    "print(X_test_essay_bow.shape, y_test.shape)\n",
    "print(\"=\"*40)"
   ]
  },
  {
   "cell_type": "markdown",
   "id": "d699c7a7",
   "metadata": {},
   "source": [
    "### TFIDF vectorizer"
   ]
  },
  {
   "cell_type": "code",
   "execution_count": 52,
   "id": "05da4f50",
   "metadata": {},
   "outputs": [
    {
     "name": "stdout",
     "output_type": "stream",
     "text": [
      "After vectorizations\n",
      "(73196, 5000) (73196,)\n",
      "(36052, 5000) (36052,)\n",
      "========================================\n"
     ]
    }
   ],
   "source": [
    "tfidfvectorizer = TfidfVectorizer(min_df=10,max_features=5000)\n",
    "text_tfidf = tfidfvectorizer.fit(X_train['essay'].values) #fitting\n",
    "\n",
    "X_train_essay_tfidf =tfidfvectorizer.transform(X_train['essay'].values) \n",
    "X_test_essay_tfidf =tfidfvectorizer.transform(X_test['essay'].values)\n",
    "\n",
    "print(\"After vectorizations\")\n",
    "print(X_train_essay_tfidf.shape, y_train.shape)\n",
    "print(X_test_essay_tfidf.shape, y_test.shape)\n",
    "print(\"=\"*40)"
   ]
  },
  {
   "cell_type": "markdown",
   "id": "f78a8fd7",
   "metadata": {},
   "source": [
    "### Make Data Model Ready: categorical features\n",
    "encoding categorical features: School State"
   ]
  },
  {
   "cell_type": "code",
   "execution_count": 53,
   "id": "b1f4ed60",
   "metadata": {},
   "outputs": [
    {
     "name": "stdout",
     "output_type": "stream",
     "text": [
      "After vectorizations\n",
      "(73196, 51) (73196,)\n",
      "(36052, 51) (36052,)\n",
      "========================================\n"
     ]
    }
   ],
   "source": [
    "vectorizer_state = CountVectorizer()\n",
    "vectorizer_state.fit(X_train['school_state'].values) # fitting\n",
    "\n",
    "X_train_state_ohe = vectorizer_state.transform(X_train['school_state'].values)\n",
    "X_test_state_ohe = vectorizer_state.transform(X_test['school_state'].values)\n",
    "\n",
    "print(\"After vectorizations\")\n",
    "print(X_train_state_ohe.shape, y_train.shape)\n",
    "print(X_test_state_ohe.shape, y_test.shape)\n",
    "print(\"=\"*40)"
   ]
  },
  {
   "cell_type": "markdown",
   "id": "bfb81569",
   "metadata": {},
   "source": [
    "## Encoding categorical features: teacher prefix"
   ]
  },
  {
   "cell_type": "code",
   "execution_count": 54,
   "id": "8f31b8ff",
   "metadata": {},
   "outputs": [
    {
     "name": "stdout",
     "output_type": "stream",
     "text": [
      "After vectorizations\n",
      "(73196, 5) (73196,)\n",
      "(36052, 5) (36052,)\n",
      "========================================\n"
     ]
    }
   ],
   "source": [
    "vectorizer_prefix= CountVectorizer()\n",
    "vectorizer_prefix.fit(X_train['teacher_prefix'].values) # fitting \n",
    "\n",
    "X_train_teacher_ohe = vectorizer_prefix.transform(X_train['teacher_prefix'].values)\n",
    "X_test_teacher_ohe = vectorizer_prefix.transform(X_test['teacher_prefix'].values)\n",
    "\n",
    "print(\"After vectorizations\")\n",
    "print(X_train_teacher_ohe.shape, y_train.shape)\n",
    "print(X_test_teacher_ohe.shape, y_test.shape)\n",
    "print(\"=\"*40)"
   ]
  },
  {
   "cell_type": "markdown",
   "id": "412cea60",
   "metadata": {},
   "source": [
    "### Encoding categorical features: project_grade_category"
   ]
  },
  {
   "cell_type": "code",
   "execution_count": 55,
   "id": "af980da2",
   "metadata": {},
   "outputs": [
    {
     "name": "stdout",
     "output_type": "stream",
     "text": [
      "After vectorizations\n",
      "(73196, 4) (73196,)\n",
      "(36052, 4) (36052,)\n",
      "========================================\n"
     ]
    }
   ],
   "source": [
    "vectorizer_grade = CountVectorizer()\n",
    "vectorizer_grade.fit(X_train['project_grade_category'].values) # fitting \n",
    "\n",
    "X_train_grade_ohe = vectorizer_grade.transform(X_train['project_grade_category'].values)\n",
    "\n",
    "X_test_grade_ohe = vectorizer_grade.transform(X_test['project_grade_category'].values)\n",
    "\n",
    "\n",
    "print(\"After vectorizations\")\n",
    "print(X_train_grade_ohe.shape, y_train.shape)\n",
    "\n",
    "print(X_test_grade_ohe.shape, y_test.shape)\n",
    "print(\"=\"*40)"
   ]
  },
  {
   "cell_type": "markdown",
   "id": "7d79c7e0",
   "metadata": {},
   "source": [
    "### Encoding categorical features: clean_categories"
   ]
  },
  {
   "cell_type": "code",
   "execution_count": 56,
   "id": "f577165b",
   "metadata": {},
   "outputs": [
    {
     "name": "stdout",
     "output_type": "stream",
     "text": [
      "After vectorizations\n",
      "(73196, 9) (73196,)\n",
      "(36052, 9) (36052,)\n",
      "========================================\n"
     ]
    }
   ],
   "source": [
    "vectorizer_category = CountVectorizer()\n",
    "vectorizer_category.fit(X_train['clean_categories'].values) # fitting \n",
    "\n",
    "X_train_category_ohe = vectorizer_category.transform(X_train['clean_categories'].values)\n",
    "\n",
    "X_test_category_ohe = vectorizer_category.transform(X_test['clean_categories'].values)\n",
    "\n",
    "print(\"After vectorizations\")\n",
    "print(X_train_category_ohe.shape, y_train.shape)\n",
    "\n",
    "print(X_test_category_ohe.shape, y_test.shape)\n",
    "print(\"=\"*40)"
   ]
  },
  {
   "cell_type": "markdown",
   "id": "e2c65fef",
   "metadata": {},
   "source": [
    "### Encoding categorical features: clean_subcategories"
   ]
  },
  {
   "cell_type": "code",
   "execution_count": 57,
   "id": "7f2c36f2",
   "metadata": {},
   "outputs": [
    {
     "name": "stdout",
     "output_type": "stream",
     "text": [
      "After vectorizations\n",
      "(73196, 30) (73196,)\n",
      "(36052, 30) (36052,)\n",
      "========================================\n"
     ]
    }
   ],
   "source": [
    "vectorizer_sub = CountVectorizer()\n",
    "vectorizer_sub.fit(X_train['clean_subcategories'].values) # fitting\n",
    "\n",
    "X_train_subcategory_ohe = vectorizer_sub.transform(X_train['clean_subcategories'].values)\n",
    "\n",
    "X_test_subcategory_ohe = vectorizer_sub.transform(X_test['clean_subcategories'].values)\n",
    "\n",
    "print(\"After vectorizations\")\n",
    "print(X_train_subcategory_ohe.shape, y_train.shape)\n",
    "\n",
    "print(X_test_subcategory_ohe.shape, y_test.shape)\n",
    "print(\"=\"*40)"
   ]
  },
  {
   "cell_type": "markdown",
   "id": "c5e65e94",
   "metadata": {},
   "source": [
    "### Encoding numerical features\n",
    "encoding numerical feature :price"
   ]
  },
  {
   "cell_type": "code",
   "execution_count": 58,
   "id": "a1e966df",
   "metadata": {},
   "outputs": [
    {
     "name": "stdout",
     "output_type": "stream",
     "text": [
      "After vectorizations\n",
      "(73196, 1) (73196,)\n",
      "(36052, 1) (36052,)\n",
      "====================================================================================================\n"
     ]
    }
   ],
   "source": [
    "from sklearn.preprocessing import Normalizer\n",
    "normalizer = Normalizer()\n",
    "\n",
    "\n",
    "X_train_price_norm = normalizer.transform(X_train['price'].values.reshape(1,-1))\n",
    "\n",
    "X_test_price_norm = normalizer.transform(X_test['price'].values.reshape(1,-1))\n",
    "\n",
    "X_train_price_norm =X_train_price_norm.reshape(-1,1)\n",
    "\n",
    "X_test_price_norm=X_test_price_norm.reshape(-1,1)\n",
    "\n",
    "print(\"After vectorizations\")\n",
    "print(X_train_price_norm.shape, y_train.shape)\n",
    "\n",
    "print(X_test_price_norm.shape, y_test.shape)\n",
    "print(\"=\"*100)"
   ]
  },
  {
   "cell_type": "markdown",
   "id": "101fff6f",
   "metadata": {},
   "source": [
    "### numerical features:teacher_number_of_previously_posted_projects"
   ]
  },
  {
   "cell_type": "code",
   "execution_count": 59,
   "id": "bdb17a9b",
   "metadata": {},
   "outputs": [
    {
     "name": "stdout",
     "output_type": "stream",
     "text": [
      "After vectorizations\n",
      "(73196, 1) (73196,)\n",
      "(36052, 1) (36052,)\n",
      "====================================================================================================\n"
     ]
    }
   ],
   "source": [
    "from sklearn.preprocessing import Normalizer\n",
    "normalizer = Normalizer()\n",
    "\n",
    "\n",
    "X_train_submission_norm = normalizer.transform(X_train['teacher_number_of_previously_posted_projects'].values.reshape(1,-1))\n",
    "\n",
    "X_test_submission_norm = normalizer.transform(X_test['teacher_number_of_previously_posted_projects'].values.reshape(1,-1))\n",
    "\n",
    "X_train_submission_norm =X_train_submission_norm .reshape(-1,1)\n",
    "\n",
    "X_test_submission_norm=X_test_submission_norm.reshape(-1,1)\n",
    "\n",
    "print(\"After vectorizations\")\n",
    "print(X_train_submission_norm.shape, y_train.shape)\n",
    "\n",
    "print(X_test_submission_norm.shape, y_test.shape)\n",
    "print(\"=\"*100)"
   ]
  },
  {
   "cell_type": "markdown",
   "id": "762fd2be",
   "metadata": {},
   "source": [
    "### Concatinating all the features\n",
    "SET-1\n"
   ]
  },
  {
   "cell_type": "raw",
   "id": "64877c05",
   "metadata": {},
   "source": [
    " Set 1: categorical, numerical features + preprocessed_eassay (BOW)"
   ]
  },
  {
   "cell_type": "code",
   "execution_count": 60,
   "id": "1fe73f5c",
   "metadata": {},
   "outputs": [],
   "source": [
    "from scipy.sparse import hstack\n",
    "X_tr_set_one = hstack((X_train_essay_bow, X_train_state_ohe, X_train_teacher_ohe, X_train_grade_ohe, X_train_price_norm,X_train_category_ohe,X_train_subcategory_ohe,X_train_submission_norm )).tocsr()\n",
    "\n",
    "X_te_set_one = hstack((X_test_essay_bow, X_test_state_ohe, X_test_teacher_ohe, X_test_grade_ohe, X_test_price_norm,X_test_category_ohe,X_test_subcategory_ohe,X_test_submission_norm)).tocsr()\n"
   ]
  },
  {
   "cell_type": "code",
   "execution_count": 61,
   "id": "67f7eb11",
   "metadata": {},
   "outputs": [
    {
     "name": "stdout",
     "output_type": "stream",
     "text": [
      "SHAPE OF TRAIN AND TEST AFTER STACKING\n",
      "(73196, 5101)\n",
      "(36052, 5101)\n"
     ]
    }
   ],
   "source": [
    "print(\"SHAPE OF TRAIN AND TEST AFTER STACKING\")\n",
    "print(X_tr_set_one.shape)\n",
    "print(X_te_set_one.shape)"
   ]
  },
  {
   "cell_type": "raw",
   "id": "486456fe",
   "metadata": {},
   "source": [
    "SET-2\n",
    "Set 2: categorical, numerical features + preprocessed_eassay (TFIDF)"
   ]
  },
  {
   "cell_type": "code",
   "execution_count": 62,
   "id": "33d5f84f",
   "metadata": {},
   "outputs": [],
   "source": [
    "from scipy.sparse import hstack\n",
    "X_tr_set_two = hstack((X_train_essay_tfidf, X_train_state_ohe, X_train_teacher_ohe, X_train_grade_ohe, X_train_price_norm,X_train_category_ohe,X_train_subcategory_ohe,X_train_submission_norm )).tocsr()\n",
    "\n",
    "X_te_set_two = hstack((X_test_essay_tfidf, X_test_state_ohe, X_test_teacher_ohe, X_test_grade_ohe, X_test_price_norm,X_test_category_ohe,X_test_subcategory_ohe,X_test_submission_norm)).tocsr()\n"
   ]
  },
  {
   "cell_type": "code",
   "execution_count": 63,
   "id": "05abbab6",
   "metadata": {},
   "outputs": [
    {
     "name": "stdout",
     "output_type": "stream",
     "text": [
      "SHAPE OF TRAIN AND TEST AFTER STACKING\n",
      "(73196, 5101)\n",
      "(36052, 5101)\n"
     ]
    }
   ],
   "source": [
    "print(\"SHAPE OF TRAIN AND TEST AFTER STACKING\")\n",
    "print(X_tr_set_two.shape)\n",
    "print(X_te_set_two.shape)"
   ]
  },
  {
   "cell_type": "markdown",
   "id": "8a89c18e",
   "metadata": {},
   "source": [
    "### MULTINOMIAL NAIVE BAYES USING GRID SEARCH CROSS VALIDATION (SET - 1)"
   ]
  },
  {
   "cell_type": "code",
   "execution_count": 64,
   "id": "87a9cdb0",
   "metadata": {},
   "outputs": [],
   "source": [
    "\n",
    "from sklearn.naive_bayes import MultinomialNB\n",
    "from sklearn.model_selection import GridSearchCV\n",
    "\n",
    "model=MultinomialNB(class_prior=[0.5,0.5])\n",
    "param={'alpha': [0.00001, 0.0001, 0.001, 0.1, 1, 10, 100,1000]}\n",
    "clf=GridSearchCV(model,param,scoring='roc_auc',cv=10,return_train_score=True) # running 10 fold cross validation grid search\n",
    "clf.fit(X_tr_set_one,y_train) #fitting\n",
    "train_auc= clf.cv_results_['mean_train_score']\n",
    "train_auc_std= clf.cv_results_['std_train_score']\n",
    "cv_auc = clf.cv_results_['mean_test_score'] \n",
    "cv_auc_std= clf.cv_results_['std_test_score']"
   ]
  },
  {
   "cell_type": "code",
   "execution_count": 65,
   "id": "d36c1d7e",
   "metadata": {},
   "outputs": [
    {
     "name": "stdout",
     "output_type": "stream",
     "text": [
      "Best score:  0.6899238172089938\n",
      "alpha value with best score:  {'alpha': 0.0001}\n",
      "========================================\n"
     ]
    }
   ],
   "source": [
    "print('Best score: ',clf.best_score_)\n",
    "print('alpha value with best score: ',clf.best_params_)\n",
    "print('='*40)"
   ]
  },
  {
   "cell_type": "markdown",
   "id": "6a9a437a",
   "metadata": {},
   "source": [
    "### plotting hyperparameter v/s auc"
   ]
  },
  {
   "cell_type": "code",
   "execution_count": 66,
   "id": "554b1c06",
   "metadata": {},
   "outputs": [
    {
     "data": {
      "image/png": "[encoded data removed]",
      "text/plain": [
       "<Figure size 576x432 with 1 Axes>"
      ]
     },
     "metadata": {
      "needs_background": "light"
     },
     "output_type": "display_data"
    }
   ],
   "source": [
    "log_param=[]\n",
    "for i in param['alpha']:  # converting alpha into log- alpha\n",
    "    log_param.append(m.log(i))\n",
    "    \n",
    "plt.figure(figsize=(8,6))\n",
    "plt.grid()\n",
    "plt.plot(log_param, train_auc, label='Train AUC')\n",
    "plt.plot(log_param, cv_auc, label='CV AUC')  \n",
    "plt.scatter(log_param,train_auc)\n",
    "plt.scatter(log_param,cv_auc)\n",
    "plt.legend()\n",
    "plt.xlabel(\"log alpha: hyperparameter\")\n",
    "plt.ylabel(\"AUC\")\n",
    "plt.title(\"alpha: hyperparameter v/s AUC\")\n",
    "plt.grid(color='black', linestyle='-', linewidth=0.5)"
   ]
  },
  {
   "cell_type": "markdown",
   "id": "6b1db514",
   "metadata": {},
   "source": [
    "### roc plot of train and test data"
   ]
  },
  {
   "cell_type": "code",
   "execution_count": 67,
   "id": "5ad818af",
   "metadata": {},
   "outputs": [
    {
     "data": {
      "image/png": "[encoded data removed]",
      "text/plain": [
       "<Figure size 576x432 with 1 Axes>"
      ]
     },
     "metadata": {
      "needs_background": "light"
     },
     "output_type": "display_data"
    }
   ],
   "source": [
    "model_set1=MultinomialNB(alpha=1e-05,class_prior=[0.5,0.5])\n",
    "model_set1.fit(X_tr_set_one,y_train)\n",
    "y_train_probs = clf.predict_proba(X_tr_set_one)[:,1] # converting train and test output into probability\n",
    "y_test_probs= clf.predict_proba(X_te_set_one )[:,1]\n",
    "\n",
    "train_fpr, train_tpr, tr_thresholds = roc_curve(y_train, y_train_probs) # storing values of fpr and tpr\n",
    "test_fpr, test_tpr, te_thresholds = roc_curve(y_test, y_test_probs)\n",
    "\n",
    "plt.figure(figsize=(8,6))\n",
    "plt.plot(train_fpr, train_tpr, label=\"Train AUC =\"+str(auc(train_fpr, train_tpr)))\n",
    "plt.plot(test_fpr, test_tpr, label=\"Test AUC =\"+str(auc(test_fpr, test_tpr)))\n",
    "plt.legend()\n",
    "plt.xlabel(\"False Positive Rate(FPR)\")\n",
    "plt.ylabel(\"True Positive Rate(TPR)\")\n",
    "plt.title(\"AUC\")\n",
    "plt.grid(color='black',lw=0.5)"
   ]
  },
  {
   "cell_type": "markdown",
   "id": "efcb62d5",
   "metadata": {},
   "source": [
    "### confusion matrix"
   ]
  },
  {
   "cell_type": "code",
   "execution_count": 68,
   "id": "0e7df1dd",
   "metadata": {},
   "outputs": [],
   "source": [
    "def find_best_threshold(threshould, fpr, tpr):\n",
    "    t = threshould[np.argmax(tpr*(1-fpr))]\n",
    "    # (tpr*(1-fpr)) will be maximum if your fpr is very low and tpr is very high\n",
    "    print(\"the maximum value of tpr*(1-fpr)\", max(tpr*(1-fpr)), \"for threshold\", np.round(t,3))\n",
    "    return t\n",
    "\n",
    "def predict_with_best_t(proba, threshould):\n",
    "    predictions = []\n",
    "    for i in proba:\n",
    "        if i>=threshould:\n",
    "            predictions.append(1)\n",
    "        else:\n",
    "            predictions.append(0)\n",
    "    return predictions"
   ]
  },
  {
   "cell_type": "markdown",
   "id": "267cdbb1",
   "metadata": {},
   "source": [
    "### Train data"
   ]
  },
  {
   "cell_type": "code",
   "execution_count": 69,
   "id": "cc630b2b",
   "metadata": {},
   "outputs": [
    {
     "name": "stdout",
     "output_type": "stream",
     "text": [
      "the maximum value of tpr*(1-fpr) 0.43935211532507107 for threshold 0.539\n",
      "CONFUSION MATRIX OF TRAIN DATA\n",
      "\n",
      "\n",
      "[[ 7542  3541]\n",
      " [22011 40102]]\n"
     ]
    },
    {
     "data": {
      "text/plain": [
       "<AxesSubplot:>"
      ]
     },
     "execution_count": 69,
     "metadata": {},
     "output_type": "execute_result"
    },
    {
     "data": {
      "image/png": "[encoded data removed]",
      "text/plain": [
       "<Figure size 432x288 with 2 Axes>"
      ]
     },
     "metadata": {
      "needs_background": "light"
     },
     "output_type": "display_data"
    }
   ],
   "source": [
    "best_t = find_best_threshold(tr_thresholds, train_fpr, train_tpr)\n",
    "cm=metrics.confusion_matrix(y_train,predict_with_best_t(y_train_probs, best_t))  \n",
    "\n",
    "print(\"CONFUSION MATRIX OF TRAIN DATA\")\n",
    "print(\"\\n\")\n",
    "print(cm)\n",
    "sns.heatmap(cm, annot=True, fmt='d',cmap='GnBu')"
   ]
  },
  {
   "cell_type": "markdown",
   "id": "7851e286",
   "metadata": {},
   "source": [
    "### Test data"
   ]
  },
  {
   "cell_type": "code",
   "execution_count": 70,
   "id": "d87c8293",
   "metadata": {},
   "outputs": [
    {
     "name": "stdout",
     "output_type": "stream",
     "text": [
      "the maximum value of tpr*(1-fpr) 0.41765345104579243 for threshold 0.604\n",
      "CONFUSION MATRIX OF TEST DATA\n",
      "\n",
      "\n",
      "[[ 3624  1835]\n",
      " [11346 19247]]\n"
     ]
    },
    {
     "data": {
      "text/plain": [
       "<AxesSubplot:>"
      ]
     },
     "execution_count": 70,
     "metadata": {},
     "output_type": "execute_result"
    },
    {
     "data": {
      "image/png": "[encoded data removed]",
      "text/plain": [
       "<Figure size 432x288 with 2 Axes>"
      ]
     },
     "metadata": {
      "needs_background": "light"
     },
     "output_type": "display_data"
    }
   ],
   "source": [
    "best_t = find_best_threshold(te_thresholds, test_fpr, test_tpr)\n",
    "cm=metrics.confusion_matrix(y_test,predict_with_best_t(y_test_probs, best_t))\n",
    "  \n",
    "print(\"CONFUSION MATRIX OF TEST DATA\")\n",
    "print('\\n')\n",
    "print(cm)\n",
    "sns.heatmap(cm, annot=True, fmt='d',cmap='GnBu')"
   ]
  },
  {
   "cell_type": "markdown",
   "id": "8e113106",
   "metadata": {},
   "source": [
    "### NAIVE BAYES USING GRID SEARCH CROSS VALIDATION (SET - 2)"
   ]
  },
  {
   "cell_type": "code",
   "execution_count": 71,
   "id": "bca8e1a6",
   "metadata": {},
   "outputs": [],
   "source": [
    "from sklearn.naive_bayes import MultinomialNB\n",
    "from sklearn.model_selection import GridSearchCV\n",
    "\n",
    "model=MultinomialNB(class_prior=[0.5,0.5])\n",
    "param={'alpha': [0.00001, 0.0001, 0.001, 0.1, 1, 10, 100,1000]}\n",
    "clf=GridSearchCV(model,param,scoring='roc_auc',cv=10,return_train_score=True) # running 10 fold cross validation grid search\n",
    "clf.fit(X_tr_set_two,y_train) #fitting\n",
    "train_auc= clf.cv_results_['mean_train_score']\n",
    "train_auc_std= clf.cv_results_['std_train_score']\n",
    "cv_auc = clf.cv_results_['mean_test_score'] \n",
    "cv_auc_std= clf.cv_results_['std_test_score']"
   ]
  },
  {
   "cell_type": "code",
   "execution_count": 72,
   "id": "3946befc",
   "metadata": {},
   "outputs": [
    {
     "name": "stdout",
     "output_type": "stream",
     "text": [
      "Best score:  0.6731791875838032\n",
      "alpha value with best score:  {'alpha': 1e-05}\n",
      "========================================\n"
     ]
    }
   ],
   "source": [
    "print('Best score: ',clf.best_score_)\n",
    "print('alpha value with best score: ',clf.best_params_)\n",
    "print('='*40)"
   ]
  },
  {
   "cell_type": "markdown",
   "id": "8e4c121e",
   "metadata": {},
   "source": [
    "### plotting hyperparameter v/s auc"
   ]
  },
  {
   "cell_type": "code",
   "execution_count": 73,
   "id": "10955245",
   "metadata": {},
   "outputs": [
    {
     "data": {
      "image/png": "[encoded data removed]",
      "text/plain": [
       "<Figure size 576x432 with 1 Axes>"
      ]
     },
     "metadata": {
      "needs_background": "light"
     },
     "output_type": "display_data"
    }
   ],
   "source": [
    "log_param=[]\n",
    "for i in param['alpha']:  # converting alpha into log- alpha\n",
    "    log_param.append(m.log(i))\n",
    "    \n",
    "plt.figure(figsize=(8,6))\n",
    "plt.grid()\n",
    "plt.plot(log_param, train_auc, label='Train AUC')\n",
    "plt.plot(log_param, cv_auc, label='CV AUC')  \n",
    "plt.scatter(log_param,train_auc)\n",
    "plt.scatter(log_param,cv_auc)\n",
    "plt.legend()\n",
    "plt.xlabel(\"log alpha: hyperparameter\")\n",
    "plt.ylabel(\"AUC\")\n",
    "plt.title(\"alpha: hyperparameter v/s AUC\")\n",
    "plt.grid(color='black', linestyle='-', linewidth=0.5)"
   ]
  },
  {
   "cell_type": "markdown",
   "id": "e4af911d",
   "metadata": {},
   "source": [
    "### roc plot of train and test data"
   ]
  },
  {
   "cell_type": "code",
   "execution_count": 74,
   "id": "4a16ca07",
   "metadata": {},
   "outputs": [
    {
     "data": {
      "image/png": "[encoded data removed]",
      "text/plain": [
       "<Figure size 576x432 with 1 Axes>"
      ]
     },
     "metadata": {
      "needs_background": "light"
     },
     "output_type": "display_data"
    }
   ],
   "source": [
    "model_set2=MultinomialNB(alpha=1e-05,class_prior=[0.5,0.5])\n",
    "model_set2.fit(X_tr_set_two,y_train)\n",
    "y_train_probs = clf.predict_proba(X_tr_set_two)[:,1] # converting train and test output into probability\n",
    "y_test_probs= clf.predict_proba(X_te_set_two )[:,1]\n",
    "\n",
    "train_fpr, train_tpr, tr_thresholds = roc_curve(y_train, y_train_probs) # storing values of fpr and tpr\n",
    "test_fpr, test_tpr, te_thresholds = roc_curve(y_test, y_test_probs)\n",
    "\n",
    "plt.figure(figsize=(8,6))\n",
    "plt.plot(train_fpr, train_tpr, label=\"Train AUC =\"+str(auc(train_fpr, train_tpr)))\n",
    "plt.plot(test_fpr, test_tpr, label=\"Test AUC =\"+str(auc(test_fpr, test_tpr)))\n",
    "plt.legend()\n",
    "plt.xlabel(\"False Positive Rate(FPR)\")\n",
    "plt.ylabel(\"True Positive Rate(TPR)\")\n",
    "plt.title(\"AUC\")\n",
    "plt.grid(color='black',lw=0.5)"
   ]
  },
  {
   "cell_type": "markdown",
   "id": "96ab3581",
   "metadata": {},
   "source": [
    "### Confusion matrix"
   ]
  },
  {
   "cell_type": "markdown",
   "id": "11a32244",
   "metadata": {},
   "source": [
    "### Train data"
   ]
  },
  {
   "cell_type": "code",
   "execution_count": 75,
   "id": "2505ca53",
   "metadata": {},
   "outputs": [
    {
     "name": "stdout",
     "output_type": "stream",
     "text": [
      "the maximum value of tpr*(1-fpr) 0.4275996878836346 for threshold 0.502\n",
      "CONFUSION MATRIX OF TRAIN DATA\n",
      "\n",
      "\n",
      "[[ 7308  3775]\n",
      " [21834 40279]]\n"
     ]
    },
    {
     "data": {
      "text/plain": [
       "<AxesSubplot:>"
      ]
     },
     "execution_count": 75,
     "metadata": {},
     "output_type": "execute_result"
    },
    {
     "data": {
      "image/png": "[encoded data removed]",
      "text/plain": [
       "<Figure size 432x288 with 2 Axes>"
      ]
     },
     "metadata": {
      "needs_background": "light"
     },
     "output_type": "display_data"
    }
   ],
   "source": [
    "best_t = find_best_threshold(tr_thresholds, train_fpr, train_tpr)\n",
    "cm=metrics.confusion_matrix(y_train,predict_with_best_t(y_train_probs, best_t))  # https://stackoverflow.com/questions/35572000/how-can-i-plot-a-confusion-matrix\n",
    "\n",
    "print(\"CONFUSION MATRIX OF TRAIN DATA\")\n",
    "print(\"\\n\")\n",
    "print(cm)\n",
    "sns.heatmap(cm, annot=True, fmt='d',cmap='GnBu')"
   ]
  },
  {
   "cell_type": "markdown",
   "id": "b8f7a8ca",
   "metadata": {},
   "source": [
    "### Test data"
   ]
  },
  {
   "cell_type": "code",
   "execution_count": 76,
   "id": "d84685c2",
   "metadata": {},
   "outputs": [
    {
     "name": "stdout",
     "output_type": "stream",
     "text": [
      "the maximum value of tpr*(1-fpr) 0.401206416344226 for threshold 0.511\n",
      "CONFUSION MATRIX OF TEST DATA\n",
      "\n",
      "\n",
      "[[ 3509  1950]\n",
      " [11498 19095]]\n"
     ]
    },
    {
     "data": {
      "text/plain": [
       "<AxesSubplot:>"
      ]
     },
     "execution_count": 76,
     "metadata": {},
     "output_type": "execute_result"
    },
    {
     "data": {
      "image/png": "[encoded data removed]",
      "text/plain": [
       "<Figure size 432x288 with 2 Axes>"
      ]
     },
     "metadata": {
      "needs_background": "light"
     },
     "output_type": "display_data"
    }
   ],
   "source": [
    "best_t = find_best_threshold(te_thresholds, test_fpr, test_tpr)\n",
    "cm=metrics.confusion_matrix(y_test,predict_with_best_t(y_test_probs, best_t))\n",
    "  \n",
    "print(\"CONFUSION MATRIX OF TEST DATA\")\n",
    "print('\\n')\n",
    "print(cm)\n",
    "sns.heatmap(cm, annot=True, fmt='d',cmap='GnBu')"
   ]
  },
  {
   "cell_type": "markdown",
   "id": "c9ae1ecf",
   "metadata": {},
   "source": [
    "### Top 20 features from set-1"
   ]
  },
  {
   "cell_type": "code",
   "execution_count": 77,
   "id": "a2f29484",
   "metadata": {},
   "outputs": [],
   "source": [
    "from scipy.sparse import hstack\n",
    "X_tr_set_one = hstack((X_train_essay_bow, X_train_state_ohe, X_train_teacher_ohe, X_train_grade_ohe, X_train_price_norm,X_train_category_ohe,X_train_subcategory_ohe,X_train_submission_norm )).tocsr()\n",
    "\n",
    "X_te_set_one = hstack((X_test_essay_bow, X_test_state_ohe, X_test_teacher_ohe, X_test_grade_ohe, X_test_price_norm,X_test_category_ohe,X_test_subcategory_ohe,X_test_submission_norm)).tocsr()\n"
   ]
  },
  {
   "cell_type": "code",
   "execution_count": 78,
   "id": "a81ed8e4",
   "metadata": {},
   "outputs": [],
   "source": [
    "features=[]\n",
    "for fe in vectorizer_bow.get_feature_names() :\n",
    "    features.append(fe)\n",
    "    \n",
    "for fe in vectorizer_state.get_feature_names() :\n",
    "    features.append(fe)\n",
    "    \n",
    "for fe in vectorizer_prefix.get_feature_names() :  # adding all features into list as the order of data frame\n",
    "    features.append(fe)\n",
    "    \n",
    "for fe in vectorizer_grade.get_feature_names() :\n",
    "    features.append(fe)\n",
    "    \n",
    "features.append(\"price\")\n",
    "\n",
    "for fe in vectorizer_category.get_feature_names() :\n",
    "    features.append(fe)\n",
    "    \n",
    "for fe in vectorizer_sub.get_feature_names() :\n",
    "    features.append(fe)\n",
    "    \n",
    "features.append(\"teacher_number_of_previously_posted_projects\")\n",
    "    "
   ]
  },
  {
   "cell_type": "code",
   "execution_count": 79,
   "id": "43fe3d9a",
   "metadata": {},
   "outputs": [],
   "source": [
    "class_0=model_set1.feature_log_prob_[0, :].argsort()   # finding probability and making argsort for each class\n",
    "class_1=model_set1.feature_log_prob_[1, :].argsort()    \n"
   ]
  },
  {
   "cell_type": "code",
   "execution_count": 80,
   "id": "cfcef858",
   "metadata": {},
   "outputs": [
    {
     "name": "stdout",
     "output_type": "stream",
     "text": [
      "top 20 features of class_0\n",
      "================================================================================\n",
      "['able' 'reading' 'love' 'come' 'work' 'need' 'we' 'many' 'nannan'\n",
      " 'my students' 'the' 'help' 'they' 'learn' 'not' 'classroom' 'my'\n",
      " 'learning' 'school' 'students']\n"
     ]
    }
   ],
   "source": [
    "print(\"top 20 features of class_0\")\n",
    "print(\"=\"*80)\n",
    "print(np.take(features, class_0[-20:])) # since argsort is asscending order"
   ]
  },
  {
   "cell_type": "code",
   "execution_count": 81,
   "id": "5cebd113",
   "metadata": {},
   "outputs": [
    {
     "name": "stdout",
     "output_type": "stream",
     "text": [
      "top 20 features of class_1\n",
      "================================================================================\n",
      "['day' 'love' 'use' 'reading' 'work' 'need' 'we' 'nannan' 'many' 'help'\n",
      " 'learn' 'my students' 'not' 'they' 'the' 'classroom' 'learning' 'my'\n",
      " 'school' 'students']\n"
     ]
    }
   ],
   "source": [
    "print(\"top 20 features of class_1\")\n",
    "print(\"=\"*80)\n",
    "print(np.take(features, class_1[-20:]))"
   ]
  },
  {
   "cell_type": "code",
   "execution_count": null,
   "id": "fe9961da",
   "metadata": {},
   "outputs": [],
   "source": []
  }
 ],
 "metadata": {
  "kernelspec": {
   "display_name": "Python 3 (ipykernel)",
   "language": "python",
   "name": "python3"
  },
  "language_info": {
   "codemirror_mode": {
    "name": "ipython",
    "version": 3
   },
   "file_extension": ".py",
   "mimetype": "text/x-python",
   "name": "python",
   "nbconvert_exporter": "python",
   "pygments_lexer": "ipython3",
   "version": "3.9.12"
  }
 },
 "nbformat": 4,
 "nbformat_minor": 5
}

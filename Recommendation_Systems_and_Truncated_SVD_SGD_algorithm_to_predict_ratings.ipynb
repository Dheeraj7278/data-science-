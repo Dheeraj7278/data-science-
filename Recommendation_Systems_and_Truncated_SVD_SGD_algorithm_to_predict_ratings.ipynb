{
 "cells": [
  {
   "cell_type": "code",
   "execution_count": 1,
   "id": "bc54a28d",
   "metadata": {},
   "outputs": [
    {
     "data": {
      "text/html": [
       "<div>\n",
       "<style scoped>\n",
       "    .dataframe tbody tr th:only-of-type {\n",
       "        vertical-align: middle;\n",
       "    }\n",
       "\n",
       "    .dataframe tbody tr th {\n",
       "        vertical-align: top;\n",
       "    }\n",
       "\n",
       "    .dataframe thead th {\n",
       "        text-align: right;\n",
       "    }\n",
       "</style>\n",
       "<table border=\"1\" class=\"dataframe\">\n",
       "  <thead>\n",
       "    <tr style=\"text-align: right;\">\n",
       "      <th></th>\n",
       "      <th>user_id</th>\n",
       "      <th>item_id</th>\n",
       "      <th>rating</th>\n",
       "    </tr>\n",
       "  </thead>\n",
       "  <tbody>\n",
       "    <tr>\n",
       "      <th>0</th>\n",
       "      <td>772</td>\n",
       "      <td>36</td>\n",
       "      <td>3</td>\n",
       "    </tr>\n",
       "    <tr>\n",
       "      <th>1</th>\n",
       "      <td>471</td>\n",
       "      <td>228</td>\n",
       "      <td>5</td>\n",
       "    </tr>\n",
       "    <tr>\n",
       "      <th>2</th>\n",
       "      <td>641</td>\n",
       "      <td>401</td>\n",
       "      <td>4</td>\n",
       "    </tr>\n",
       "    <tr>\n",
       "      <th>3</th>\n",
       "      <td>312</td>\n",
       "      <td>98</td>\n",
       "      <td>4</td>\n",
       "    </tr>\n",
       "    <tr>\n",
       "      <th>4</th>\n",
       "      <td>58</td>\n",
       "      <td>504</td>\n",
       "      <td>5</td>\n",
       "    </tr>\n",
       "  </tbody>\n",
       "</table>\n",
       "</div>"
      ],
      "text/plain": [
       "   user_id  item_id  rating\n",
       "0      772       36       3\n",
       "1      471      228       5\n",
       "2      641      401       4\n",
       "3      312       98       4\n",
       "4       58      504       5"
      ]
     },
     "execution_count": 1,
     "metadata": {},
     "output_type": "execute_result"
    }
   ],
   "source": [
    "import pandas as pd\n",
    "data=pd.read_csv('C:\\\\Users\\\\amitk\\\\OneDrive\\\\Desktop\\\\ratings_train.csv')\n",
    "data.head()"
   ]
  },
  {
   "cell_type": "code",
   "execution_count": 2,
   "id": "f293299a",
   "metadata": {},
   "outputs": [
    {
     "data": {
      "text/plain": [
       "(89992, 3)"
      ]
     },
     "execution_count": 2,
     "metadata": {},
     "output_type": "execute_result"
    }
   ],
   "source": [
    "data.shape"
   ]
  },
  {
   "cell_type": "code",
   "execution_count": 3,
   "id": "79639f54",
   "metadata": {},
   "outputs": [],
   "source": [
    "from scipy.sparse import csr_matrix\n",
    "adjacency_matrix =csr_matrix((data.rating.values, (data.user_id.values,data.item_id.values)))"
   ]
  },
  {
   "cell_type": "code",
   "execution_count": 4,
   "id": "7675c698",
   "metadata": {},
   "outputs": [
    {
     "data": {
      "text/plain": [
       "(943, 1681)"
      ]
     },
     "execution_count": 4,
     "metadata": {},
     "output_type": "execute_result"
    }
   ],
   "source": [
    "adjacency_matrix.shape"
   ]
  },
  {
   "cell_type": "code",
   "execution_count": 5,
   "id": "1b8eb356",
   "metadata": {},
   "outputs": [
    {
     "data": {
      "text/plain": [
       "True"
      ]
     },
     "execution_count": 5,
     "metadata": {},
     "output_type": "execute_result"
    }
   ],
   "source": [
    "def grader_matrix(matrix):\n",
    "  assert(matrix.shape==(943,1681))\n",
    "  return True\n",
    "grader_matrix(adjacency_matrix)"
   ]
  },
  {
   "cell_type": "code",
   "execution_count": 6,
   "id": "20ca4b8b",
   "metadata": {},
   "outputs": [
    {
     "name": "stdout",
     "output_type": "stream",
     "text": [
      "(20, 5)\n",
      "(5,)\n",
      "(10, 5)\n"
     ]
    }
   ],
   "source": [
    "from sklearn.utils.extmath import randomized_svd\n",
    "import numpy as np \n",
    "matrix = np.random.random((20, 10))\n",
    "U, Sigma, VT = randomized_svd(matrix, n_components=5,n_iter=5, random_state=None)\n",
    "print(U.shape)\n",
    "print(Sigma.shape)\n",
    "print(VT.T.shape)"
   ]
  },
  {
   "cell_type": "code",
   "execution_count": 7,
   "id": "cb72d5a0",
   "metadata": {},
   "outputs": [
    {
     "name": "stdout",
     "output_type": "stream",
     "text": [
      "(943, 10)\n",
      "(10,)\n",
      "(1681, 10)\n"
     ]
    }
   ],
   "source": [
    "# Please use adjacency_matrix as matrix for SVD decompostion\n",
    "# You can choose n_components as your choice\n",
    "from sklearn.utils.extmath import randomized_svd\n",
    "import numpy as np \n",
    "U, Sigma, VT = randomized_svd(adjacency_matrix, n_components=10,n_iter=5, random_state=None)\n",
    "print(U.shape)\n",
    "print(Sigma.shape)\n",
    "print(VT.T.shape)"
   ]
  },
  {
   "cell_type": "code",
   "execution_count": 8,
   "id": "33dfb34e",
   "metadata": {},
   "outputs": [],
   "source": [
    "def m_u(ratings):\n",
    "    '''In this function, we will compute mean for all the ratings'''\n",
    "    # you can use mean() function to do this\n",
    "    # check this (https://pandas.pydata.org/pandas-docs/stable/reference/api/pandas.DataFrame.mean.html) link for more details.\n",
    "    avg_rating=ratings.mean()\n",
    "\n",
    "    return avg_rating"
   ]
  },
  {
   "cell_type": "code",
   "execution_count": 9,
   "id": "853550de",
   "metadata": {},
   "outputs": [
    {
     "data": {
      "text/plain": [
       "True"
      ]
     },
     "execution_count": 9,
     "metadata": {},
     "output_type": "execute_result"
    }
   ],
   "source": [
    "def grader_mean(mu):\n",
    "  assert(np.round(mu,3)==3.529)\n",
    "  return True\n",
    "mu=m_u(data['rating'])\n",
    "grader_mean(mu)"
   ]
  },
  {
   "cell_type": "code",
   "execution_count": 10,
   "id": "d443fb37",
   "metadata": {},
   "outputs": [],
   "source": [
    "def initialize(dim):\n",
    "    '''In this function, we will initialize bias value 'B' and 'C'.'''\n",
    "    # initalize the value to zeros \n",
    "    # return output as a list of zeros \n",
    "    inta=np.zeros(dim)\n",
    "    return inta"
   ]
  },
  {
   "cell_type": "code",
   "execution_count": 11,
   "id": "2ca29e3c",
   "metadata": {},
   "outputs": [],
   "source": [
    "dim=943 # give the number of dimensions for b_i (Here b_i corresponds to users)\n",
    "b_i=initialize(dim)"
   ]
  },
  {
   "cell_type": "code",
   "execution_count": 12,
   "id": "89aeb75a",
   "metadata": {},
   "outputs": [],
   "source": [
    "dim=1681 # give the number of dimensions for c_j (Here c_j corresponds to movies)\n",
    "c_j=initialize(dim)"
   ]
  },
  {
   "cell_type": "code",
   "execution_count": 13,
   "id": "b004b110",
   "metadata": {},
   "outputs": [
    {
     "data": {
      "text/plain": [
       "True"
      ]
     },
     "execution_count": 13,
     "metadata": {},
     "output_type": "execute_result"
    }
   ],
   "source": [
    "def grader_dim(b_i,c_j):\n",
    "    assert(len(b_i)==943 and np.sum(b_i)==0)\n",
    "    assert(len(c_j)==1681 and np.sum(c_j)==0)\n",
    "    return True\n",
    "grader_dim(b_i,c_j)"
   ]
  },
  {
   "cell_type": "code",
   "execution_count": 14,
   "id": "506a706e",
   "metadata": {},
   "outputs": [],
   "source": [
    "def derivative_db(user_id,item_id,rating,U,V,mu,alpha):\n",
    "    '''In this function, we will compute dL/db_i'''\n",
    "    reg=2*alpha*b_i[user_id]\n",
    "    loss=-2*(rating-mu-b_i[user_id]-c_j[item_id]-np.dot(U[user_id],V.T[item_id]))\n",
    "    der=reg+loss\n",
    "    return der"
   ]
  },
  {
   "cell_type": "code",
   "execution_count": 15,
   "id": "7dd2517d",
   "metadata": {},
   "outputs": [
    {
     "data": {
      "text/plain": [
       "True"
      ]
     },
     "execution_count": 15,
     "metadata": {},
     "output_type": "execute_result"
    }
   ],
   "source": [
    "def grader_db(value):\n",
    "    assert(np.round(value,3)==-0.931)\n",
    "    return True\n",
    "U1, Sigma, V1 = randomized_svd(adjacency_matrix, n_components=2,n_iter=5, random_state=24)\n",
    "# Please don't change random state\n",
    "# Here we are considering n_componets = 2 for our convinence\n",
    "alpha=0.01 \n",
    "value=derivative_db(312,98,4,U1,V1,mu,alpha)\n",
    "grader_db(value)"
   ]
  },
  {
   "cell_type": "code",
   "execution_count": 16,
   "id": "01c3bb19",
   "metadata": {},
   "outputs": [],
   "source": [
    "def derivative_dc(user_id,item_id,rating,U,V,mu,alpha):\n",
    "    '''In this function, we will compute dL/dc_j'''\n",
    "    reg=2*alpha*c_j[item_id]\n",
    "    loss=-2*(rating-mu-b_i[user_id]-c_j[item_id]-np.dot(U[user_id],V.T[item_id]))\n",
    "    der=reg+loss\n",
    "    return der"
   ]
  },
  {
   "cell_type": "code",
   "execution_count": 17,
   "id": "ac283d8c",
   "metadata": {},
   "outputs": [
    {
     "data": {
      "text/plain": [
       "True"
      ]
     },
     "execution_count": 17,
     "metadata": {},
     "output_type": "execute_result"
    }
   ],
   "source": [
    "def grader_dc(value):\n",
    "    assert(np.round(value,3)==-2.929)\n",
    "    return True\n",
    "U1, Sigma, V1 = randomized_svd(adjacency_matrix, n_components=2,n_iter=5, random_state=24)\n",
    "# Please don't change random state\n",
    "# Here we are considering n_componets = 2 for our convinence\n",
    "alpha=0.01 \n",
    "value=derivative_dc(58,504,5,U1,V1,mu,alpha)\n",
    "grader_dc(value)"
   ]
  },
  {
   "cell_type": "code",
   "execution_count": 18,
   "id": "7c56ef61",
   "metadata": {},
   "outputs": [
    {
     "name": "stdout",
     "output_type": "stream",
     "text": [
      "-- EPOCH 1\n",
      "MSE : 0.8884177830632292\n",
      "-- EPOCH 2\n",
      "MSE : 0.8618657763635917\n",
      "-- EPOCH 3\n",
      "MSE : 0.8522564704097786\n",
      "-- EPOCH 4\n",
      "MSE : 0.8476517968683716\n",
      "-- EPOCH 5\n",
      "MSE : 0.8450700324375263\n",
      "-- EPOCH 6\n",
      "MSE : 0.8434569520565145\n",
      "-- EPOCH 7\n",
      "MSE : 0.8423646215256323\n",
      "-- EPOCH 8\n",
      "MSE : 0.8415779416176522\n",
      "-- EPOCH 9\n",
      "MSE : 0.8409837723487883\n",
      "-- EPOCH 10\n",
      "MSE : 0.840518097134755\n",
      "-- EPOCH 11\n",
      "MSE : 0.840142408569064\n",
      "-- EPOCH 12\n",
      "MSE : 0.8398322960156199\n",
      "-- EPOCH 13\n",
      "MSE : 0.8395715677685543\n",
      "-- EPOCH 14\n",
      "MSE : 0.839349055268564\n",
      "-- EPOCH 15\n",
      "MSE : 0.8391567909740344\n",
      "-- EPOCH 16\n",
      "MSE : 0.8389889243459856\n",
      "-- EPOCH 17\n",
      "MSE : 0.838841051746987\n",
      "-- EPOCH 18\n",
      "MSE : 0.8387097875887763\n",
      "-- EPOCH 19\n",
      "MSE : 0.8385924811326955\n",
      "-- EPOCH 20\n",
      "MSE : 0.8384870241105183\n",
      "-- EPOCH 21\n",
      "MSE : 0.8383917166744568\n",
      "-- EPOCH 22\n",
      "MSE : 0.8383051718362824\n",
      "-- EPOCH 23\n",
      "MSE : 0.8382262459394156\n",
      "-- EPOCH 24\n",
      "MSE : 0.8381539871401772\n",
      "-- EPOCH 25\n",
      "MSE : 0.8380875966055453\n",
      "-- EPOCH 26\n",
      "MSE : 0.8380263988590071\n",
      "-- EPOCH 27\n",
      "MSE : 0.8379698188196685\n",
      "-- EPOCH 28\n",
      "MSE : 0.8379173638142111\n",
      "-- EPOCH 29\n",
      "MSE : 0.8378686093352579\n",
      "-- EPOCH 30\n",
      "MSE : 0.8378231876580354\n"
     ]
    }
   ],
   "source": [
    "from sklearn.metrics import mean_squared_error\n",
    "rate=.01\n",
    "y_act=data[\"rating\"]\n",
    "epochs=[]\n",
    "mse=[]\n",
    "for epoch in range(30):\n",
    "  epochs.append(epoch+1)\n",
    "  y_pred=[]\n",
    "  for user,item,rating in zip(data.iloc[:, 0], data.iloc[:, 1],data.iloc[:, 2]):\n",
    "    d_b=derivative_db(user,item,rating,U,VT,mu,alpha)\n",
    "    b_i[user]=b_i[user]-rate*d_b \n",
    "    d_c=derivative_dc(user,item,rating,U,VT,mu,alpha)\n",
    "    c_j[item]=c_j[item]-rate*d_c  \n",
    "  for user,item,rating in zip(data.iloc[:, 0], data.iloc[:, 1],data.iloc[:, 2]):\n",
    "    pred=mu+b_i[user]+c_j[item]+np.dot(U[user],VT.T[item])\n",
    "    y_pred.append(pred)\n",
    "  m= mean_squared_error(y_act,y_pred)\n",
    "  mse.append(m) \n",
    "  print(\"--\"+\" \"+ \"EPOCH\"+\" \"+str(epoch+1))  \n",
    "  print(\"MSE :\",m)"
   ]
  },
  {
   "cell_type": "code",
   "execution_count": 19,
   "id": "99ce2b8e",
   "metadata": {},
   "outputs": [
    {
     "data": {
      "text/plain": [
       "<matplotlib.legend.Legend at 0x1fc312b7130>"
      ]
     },
     "execution_count": 19,
     "metadata": {},
     "output_type": "execute_result"
    },
    {
     "data": {
      "image/png": "[encoded data removed]",
      "text/plain": [
       "<Figure size 576x432 with 1 Axes>"
      ]
     },
     "metadata": {
      "needs_background": "light"
     },
     "output_type": "display_data"
    }
   ],
   "source": [
    "import matplotlib.pyplot as plt\n",
    "x=epochs\n",
    "y=mse\n",
    "plt.figure(figsize=(8,6))\n",
    "plt.plot(x,y,label='Mean Square Error',color=\"red\")\n",
    "plt.grid()\n",
    "plt.xlabel(\"EPOCH\")\n",
    "plt.ylabel(\"MEAN SQURE ERROR\")\n",
    "plt.title(\"EPOCH V/S MEAN SQUARE ERROR\")\n",
    "plt.legend(loc=(.55,.7))"
   ]
  },
  {
   "cell_type": "code",
   "execution_count": 47,
   "id": "fe55fca5",
   "metadata": {},
   "outputs": [
    {
     "data": {
      "text/html": [
       "<div>\n",
       "<style scoped>\n",
       "    .dataframe tbody tr th:only-of-type {\n",
       "        vertical-align: middle;\n",
       "    }\n",
       "\n",
       "    .dataframe tbody tr th {\n",
       "        vertical-align: top;\n",
       "    }\n",
       "\n",
       "    .dataframe thead th {\n",
       "        text-align: right;\n",
       "    }\n",
       "</style>\n",
       "<table border=\"1\" class=\"dataframe\">\n",
       "  <thead>\n",
       "    <tr style=\"text-align: right;\">\n",
       "      <th></th>\n",
       "      <th>user_id</th>\n",
       "      <th>age</th>\n",
       "      <th>is_male</th>\n",
       "      <th>orig_user_id</th>\n",
       "    </tr>\n",
       "  </thead>\n",
       "  <tbody>\n",
       "    <tr>\n",
       "      <th>0</th>\n",
       "      <td>0</td>\n",
       "      <td>24</td>\n",
       "      <td>1</td>\n",
       "      <td>1</td>\n",
       "    </tr>\n",
       "    <tr>\n",
       "      <th>1</th>\n",
       "      <td>1</td>\n",
       "      <td>53</td>\n",
       "      <td>0</td>\n",
       "      <td>2</td>\n",
       "    </tr>\n",
       "    <tr>\n",
       "      <th>2</th>\n",
       "      <td>2</td>\n",
       "      <td>23</td>\n",
       "      <td>1</td>\n",
       "      <td>3</td>\n",
       "    </tr>\n",
       "    <tr>\n",
       "      <th>3</th>\n",
       "      <td>3</td>\n",
       "      <td>24</td>\n",
       "      <td>1</td>\n",
       "      <td>4</td>\n",
       "    </tr>\n",
       "    <tr>\n",
       "      <th>4</th>\n",
       "      <td>4</td>\n",
       "      <td>33</td>\n",
       "      <td>0</td>\n",
       "      <td>5</td>\n",
       "    </tr>\n",
       "  </tbody>\n",
       "</table>\n",
       "</div>"
      ],
      "text/plain": [
       "   user_id  age  is_male  orig_user_id\n",
       "0        0   24        1             1\n",
       "1        1   53        0             2\n",
       "2        2   23        1             3\n",
       "3        3   24        1             4\n",
       "4        4   33        0             5"
      ]
     },
     "execution_count": 47,
     "metadata": {},
     "output_type": "execute_result"
    }
   ],
   "source": [
    "import pandas as pd\n",
    "data1=pd.read_csv('C:\\\\Users\\\\amitk\\\\OneDrive\\\\Desktop\\\\user_info.csv')\n",
    "data1.head()"
   ]
  },
  {
   "cell_type": "code",
   "execution_count": 48,
   "id": "97ffd879",
   "metadata": {},
   "outputs": [],
   "source": [
    "X=U\n",
    "Y=data1[\"is_male\"]"
   ]
  },
  {
   "cell_type": "code",
   "execution_count": 49,
   "id": "46361f5e",
   "metadata": {},
   "outputs": [],
   "source": [
    "from sklearn.linear_model import LogisticRegression\n",
    "logreg = LogisticRegression(C=1e-4)"
   ]
  },
  {
   "cell_type": "code",
   "execution_count": 50,
   "id": "a4ae8938",
   "metadata": {},
   "outputs": [
    {
     "data": {
      "text/plain": [
       "LogisticRegression(C=0.0001)"
      ]
     },
     "execution_count": 50,
     "metadata": {},
     "output_type": "execute_result"
    }
   ],
   "source": [
    "logreg.fit(X,Y)"
   ]
  },
  {
   "cell_type": "code",
   "execution_count": 51,
   "id": "3fbecba7",
   "metadata": {},
   "outputs": [
    {
     "data": {
      "text/plain": [
       "0.7104984093319194"
      ]
     },
     "execution_count": 51,
     "metadata": {},
     "output_type": "execute_result"
    }
   ],
   "source": [
    " from sklearn.metrics import accuracy_score\n",
    "accuracy_score(Y,logreg.predict(X) )"
   ]
  },
  {
   "cell_type": "code",
   "execution_count": 52,
   "id": "ced992a5",
   "metadata": {},
   "outputs": [
    {
     "data": {
      "text/plain": [
       "array([[  0, 273],\n",
       "       [  0, 670]], dtype=int64)"
      ]
     },
     "execution_count": 52,
     "metadata": {},
     "output_type": "execute_result"
    }
   ],
   "source": [
    "from sklearn.metrics import confusion_matrix\n",
    "confusion_matrix(Y,logreg.predict(X))"
   ]
  },
  {
   "cell_type": "raw",
   "id": "3b79a572",
   "metadata": {},
   "source": [
    "AFTER DOING SIMPLE LOGISTIC REGRESSION MODEL WE GET A ACCURACY OF 71% . SO WE CAN SAY THAT USER VECTOR (FEATURE VECTOR) OF RANDOMIZED SVD CONTAIN SOME AMOUNT OF GENDER INFORMATION."
   ]
  },
  {
   "cell_type": "code",
   "execution_count": null,
   "id": "4796f52a",
   "metadata": {},
   "outputs": [],
   "source": []
  }
 ],
 "metadata": {
  "kernelspec": {
   "display_name": "Python 3 (ipykernel)",
   "language": "python",
   "name": "python3"
  },
  "language_info": {
   "codemirror_mode": {
    "name": "ipython",
    "version": 3
   },
   "file_extension": ".py",
   "mimetype": "text/x-python",
   "name": "python",
   "nbconvert_exporter": "python",
   "pygments_lexer": "ipython3",
   "version": "3.9.12"
  }
 },
 "nbformat": 4,
 "nbformat_minor": 5
}
